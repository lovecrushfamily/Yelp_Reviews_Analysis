{
 "cells": [
  {
   "cell_type": "markdown",
   "id": "1bee3653-8bac-4ea4-888b-d5c2b01f0942",
   "metadata": {},
   "source": [
    "## Yelp Reviews Data Analysis"
   ]
  },
  {
   "cell_type": "markdown",
   "id": "ea2529a5-eaf7-46bc-adce-30c4fcb51b2b",
   "metadata": {},
   "source": [
    "## 1. Overall Project Objectives\n",
    "\n",
    "Yelp is an application to provide the platform for customers to write reviews and provide a star-rating. A research indicates that a one-star increase led to 59% increase in revenue of independent restaurants. Therefore, we see great potential of Yelp dataset as a valuable insights repository.\n",
    "\n",
    "The main purpose of our project is to conduct thorough analysis on 7 different cuisine types of restaurants which are Korean, Japanese, Chinese, Vietnamese,Thai, French and Italian, figure out what makes a good restaurant and what concerns customers, and then make recommendations of the future improvement and profit growth. Specifically, we will mainly analyze customers' reviews and figure out reasons why customers love or dislike the restaurant. For example, there may be great reviews primarily due to the friendly service, or negative reviews about high price. Meanwhile, we will also compare among those 7 different cuisine types and figure out differences from reviews and gain valuable insights to make customized recommendations to different types of restaurants."
   ]
  },
  {
   "cell_type": "markdown",
   "id": "44b66a92-e0f5-4779-aa77-6bb7ee12699e",
   "metadata": {},
   "source": [
    "## 2. Description of Data\n",
    "\n",
    "The Yelp dataset is downloaded from Yelp Reviews website. In total, there are 5,200,000 user reviews, information on 174,000 business. we will focus on two tables which are business table and review table. Attributes of business table are as following:\n",
    "\n",
    "* business_id: ID of the business \n",
    "* name: name of the business\n",
    "* neighborhood \n",
    "* address: address of the business\n",
    "* city: city of the business\n",
    "* state: state of the business\n",
    "* postal_code: postal code of the business\n",
    "* latitude: latitude of the business\n",
    "* longitude: longitude of the business\n",
    "* stars: average rating of the business\n",
    "* review_count: number of reviews received\n",
    "* is_open: 1 if the business is open, 0 therwise\n",
    "* categories: multiple categories of the business\n",
    "\n",
    "Attribues of review table are as following:\n",
    "* review_id: ID of the review\n",
    "* user_id: ID of the user\n",
    "* business_id: ID of the business\n",
    "* stars: ratings of the business\n",
    "* date: review date\n",
    "* text: review from the user\n",
    "* useful: number of users who vote a review as usefull\n",
    "* funny: number of users who vote a review as funny\n",
    "* cool: number of users who vote a review as cool\n"
   ]
  },
  {
   "cell_type": "markdown",
   "id": "763fb1ed-f9f2-4059-9aa8-ce604b085ed4",
   "metadata": {},
   "source": [
    "## 3. Direction of Analysis\n",
    "\n",
    "**Exploratory Data Analysis**\n",
    "\n",
    "* Count something\n",
    "* Vizualize something"
   ]
  },
  {
   "cell_type": "code",
   "execution_count": null,
   "id": "378e02bf-59bd-46ad-89db-091f89d70417",
   "metadata": {},
   "outputs": [],
   "source": []
  },
  {
   "cell_type": "code",
   "execution_count": 1,
   "id": "15ed1449-0e24-46e7-ab0d-53008048f65d",
   "metadata": {},
   "outputs": [
    {
     "name": "stderr",
     "output_type": "stream",
     "text": [
      "25/10/18 00:41:39 WARN SparkSession: Using an existing Spark session; only runtime SQL configurations will take effect.\n"
     ]
    },
    {
     "data": {
      "text/html": [
       "\n",
       "            <div>\n",
       "                <p><b>SparkSession - hive</b></p>\n",
       "                \n",
       "        <div>\n",
       "            <p><b>SparkContext</b></p>\n",
       "\n",
       "            <p><a href=\"http://master:4040\">Spark UI</a></p>\n",
       "\n",
       "            <dl>\n",
       "              <dt>Version</dt>\n",
       "                <dd><code>v3.5.1</code></dd>\n",
       "              <dt>Master</dt>\n",
       "                <dd><code>spark://master:7077</code></dd>\n",
       "              <dt>AppName</dt>\n",
       "                <dd><code>PySparkShell</code></dd>\n",
       "            </dl>\n",
       "        </div>\n",
       "        \n",
       "            </div>\n",
       "        "
      ],
      "text/plain": [
       "<pyspark.sql.session.SparkSession at 0x7f7496ebf970>"
      ]
     },
     "execution_count": 1,
     "metadata": {},
     "output_type": "execute_result"
    }
   ],
   "source": [
    "from pyspark.sql import SparkSession\n",
    "spark  = SparkSession.builder.\\\n",
    "        appName(\"SparkDataAnalysis\").\\\n",
    "        master(\"spark://master:7077\").\\\n",
    "        getOrCreate()\n",
    "\n",
    "spark"
   ]
  },
  {
   "cell_type": "code",
   "execution_count": 2,
   "id": "90ffef54-309c-41b7-afbf-29d9ca4a6b1f",
   "metadata": {},
   "outputs": [],
   "source": [
    "#HARD RESET THE KERNEL\n",
    "#import os\n",
    "#os._exit(00)\n"
   ]
  },
  {
   "cell_type": "markdown",
   "id": "eeb171fc-bd11-4660-aa0f-3ff94a10a011",
   "metadata": {},
   "source": [
    "## 4. Coding Stage"
   ]
  },
  {
   "cell_type": "code",
   "execution_count": 35,
   "id": "f81dc4d4-7860-445d-b5c5-dff0ec453ddd",
   "metadata": {},
   "outputs": [],
   "source": [
    "import pandas as pd\n",
    "import numpy as np\n",
    "from collections import Counter\n",
    "import matplotlib.pyplot as plt\n",
    "import seaborn as sns\n",
    "from IPython.display import display\n",
    "pd.set_option('display.max_columns', None)   # show all columns\n",
    "pd.set_option('display.max_colwidth', None)  # don’t truncate text\n",
    "pd.set_option('display.width', 1000)### *Read Yelp Dataset*\n",
    "\n",
    "sns.set(style=\"whitegrid\")\n",
    "\n",
    "from pyspark.sql import functions as F\n",
    "from pyspark.sql import types as T\n",
    "\n",
    "\n",
    "#spark.conf.set(\"spark.sql.debug.maxToStringFields\", 2000)\n",
    "\n"
   ]
  },
  {
   "cell_type": "code",
   "execution_count": 8,
   "id": "24045c32-97cb-4d74-b7c7-69215eae42a3",
   "metadata": {},
   "outputs": [
    {
     "name": "stderr",
     "output_type": "stream",
     "text": [
      "                                                                                \r"
     ]
    }
   ],
   "source": [
    "df_business = spark.read.json(\"/yelp_review_dataset/yelp_academic_dataset_business.json\")\n",
    "df_user = spark.read.json(\"/yelp_review_dataset/yelp_academic_dataset_user.json\")\n",
    "df_tip = spark.read.json(\"/yelp_review_dataset/yelp_academic_dataset_tip.json\")\n",
    "df_review = spark.read.json(\"/yelp_review_dataset/yelp_academic_dataset_review.json\")\n",
    "df_checkin = spark.read.json(\"/yelp_review_dataset/yelp_academic_dataset_checkin.json\")"
   ]
  },
  {
   "cell_type": "markdown",
   "id": "21e8e3dd-9a72-4b96-9f0d-cfb08262c341",
   "metadata": {},
   "source": [
    "### Academic Business\n",
    "\n",
    "💡 Role:\n",
    "\n",
    "This file contains information about each business listed on Yelp: restaurants, salons, hotels, gyms, etc.\n",
    "Every other file connects to it via business_id.\n",
    "\n",
    "{\n",
    "  \"business_id\": \"1SWheh84yJXfytovILXOAQ\",\n",
    "  \"name\": \"The Range at Lake Norman\",\n",
    "  \"address\": \"10913 Bailey Rd\",\n",
    "  \"city\": \"Cornelius\",\n",
    "  \"state\": \"NC\",\n",
    "  \"postal_code\": \"28031\",\n",
    "  \"latitude\": 35.4627242,\n",
    "  \"longitude\": -80.8526119,\n",
    "  \"stars\": 4.0,\n",
    "  \"review_count\": 36,\n",
    "  \"is_open\": 1,\n",
    "  \"attributes\": {\n",
    "    \"BusinessAcceptsCreditCards\": \"True\",\n",
    "    \"WiFi\": \"free\"\n",
    "  },\n",
    "  \"categories\": \"Active Life, Gun/Rifle Ranges, Guns & Ammo\",\n",
    "  \"hours\": {\n",
    "    \"Monday\": \"10:00-18:00\",\n",
    "    \"Tuesday\": \"10:00-18:00\"\n",
    "  }\n",
    "}"
   ]
  },
  {
   "cell_type": "code",
   "execution_count": 39,
   "id": "d98adda2-6c11-4d15-92f2-c402b06a04fa",
   "metadata": {},
   "outputs": [
    {
     "data": {
      "text/html": [
       "<div>\n",
       "<style scoped>\n",
       "    .dataframe tbody tr th:only-of-type {\n",
       "        vertical-align: middle;\n",
       "    }\n",
       "\n",
       "    .dataframe tbody tr th {\n",
       "        vertical-align: top;\n",
       "    }\n",
       "\n",
       "    .dataframe thead th {\n",
       "        text-align: right;\n",
       "    }\n",
       "</style>\n",
       "<table border=\"1\" class=\"dataframe\">\n",
       "  <thead>\n",
       "    <tr style=\"text-align: right;\">\n",
       "      <th></th>\n",
       "      <th>address</th>\n",
       "      <th>attributes</th>\n",
       "      <th>business_id</th>\n",
       "      <th>categories</th>\n",
       "      <th>city</th>\n",
       "      <th>hours</th>\n",
       "      <th>is_open</th>\n",
       "      <th>latitude</th>\n",
       "      <th>longitude</th>\n",
       "      <th>name</th>\n",
       "      <th>postal_code</th>\n",
       "      <th>review_count</th>\n",
       "      <th>stars</th>\n",
       "      <th>state</th>\n",
       "    </tr>\n",
       "  </thead>\n",
       "  <tbody>\n",
       "    <tr>\n",
       "      <th>0</th>\n",
       "      <td>1616 Chapala St, Ste 2</td>\n",
       "      <td>(None, None, None, None, None, None, None, None, None, None, None, True, None, None, None, None, None, None, None, None, None, None, None, None, None, None, None, None, None, None, None, None, None, None, None, None, None, None, None)</td>\n",
       "      <td>Pns2l4eNsfO8kk83dixA6A</td>\n",
       "      <td>Doctors, Traditional Chinese Medicine, Naturopathic/Holistic, Acupuncture, Health &amp; Medical, Nutritionists</td>\n",
       "      <td>Santa Barbara</td>\n",
       "      <td>None</td>\n",
       "      <td>0</td>\n",
       "      <td>34.426679</td>\n",
       "      <td>-119.711197</td>\n",
       "      <td>Abby Rappoport, LAC, CMQ</td>\n",
       "      <td>93101</td>\n",
       "      <td>7</td>\n",
       "      <td>5.0</td>\n",
       "      <td>CA</td>\n",
       "    </tr>\n",
       "    <tr>\n",
       "      <th>1</th>\n",
       "      <td>87 Grasso Plaza Shopping Center</td>\n",
       "      <td>(None, None, None, None, None, None, None, None, None, True, None, None, None, None, None, None, None, None, None, None, None, None, None, None, None, None, None, None, None, None, None, None, None, None, None, None, None, None, None)</td>\n",
       "      <td>mpf3x-BjTdTEA3yCZrAYPw</td>\n",
       "      <td>Shipping Centers, Local Services, Notaries, Mailbox Centers, Printing Services</td>\n",
       "      <td>Affton</td>\n",
       "      <td>(8:0-18:30, 0:0-0:0, 8:0-14:0, None, 8:0-18:30, 8:0-18:30, 8:0-18:30)</td>\n",
       "      <td>1</td>\n",
       "      <td>38.551126</td>\n",
       "      <td>-90.335695</td>\n",
       "      <td>The UPS Store</td>\n",
       "      <td>63123</td>\n",
       "      <td>15</td>\n",
       "      <td>3.0</td>\n",
       "      <td>MO</td>\n",
       "    </tr>\n",
       "  </tbody>\n",
       "</table>\n",
       "</div>"
      ],
      "text/plain": [
       "                           address                                                                                                                                                                                                                                  attributes             business_id                                                                                                  categories           city                                                                  hours  is_open   latitude   longitude                      name postal_code  review_count  stars state\n",
       "0           1616 Chapala St, Ste 2  (None, None, None, None, None, None, None, None, None, None, None, True, None, None, None, None, None, None, None, None, None, None, None, None, None, None, None, None, None, None, None, None, None, None, None, None, None, None, None)  Pns2l4eNsfO8kk83dixA6A  Doctors, Traditional Chinese Medicine, Naturopathic/Holistic, Acupuncture, Health & Medical, Nutritionists  Santa Barbara                                                                   None        0  34.426679 -119.711197  Abby Rappoport, LAC, CMQ       93101             7    5.0    CA\n",
       "1  87 Grasso Plaza Shopping Center  (None, None, None, None, None, None, None, None, None, True, None, None, None, None, None, None, None, None, None, None, None, None, None, None, None, None, None, None, None, None, None, None, None, None, None, None, None, None, None)  mpf3x-BjTdTEA3yCZrAYPw                              Shipping Centers, Local Services, Notaries, Mailbox Centers, Printing Services         Affton  (8:0-18:30, 0:0-0:0, 8:0-14:0, None, 8:0-18:30, 8:0-18:30, 8:0-18:30)        1  38.551126  -90.335695             The UPS Store       63123            15    3.0    MO"
      ]
     },
     "execution_count": 39,
     "metadata": {},
     "output_type": "execute_result"
    }
   ],
   "source": [
    "df_business.limit(2).toPandas()"
   ]
  },
  {
   "cell_type": "markdown",
   "id": "308f5b5a-7e78-4eef-831a-cea7ad61cc3a",
   "metadata": {},
   "source": [
    "#### Academic Business Schema"
   ]
  },
  {
   "cell_type": "code",
   "execution_count": 36,
   "id": "005ef284-54b8-4045-910e-f8cc83cacb0b",
   "metadata": {},
   "outputs": [
    {
     "name": "stderr",
     "output_type": "stream",
     "text": [
      "[Stage 28:>                                                         (0 + 2) / 2]\r"
     ]
    },
    {
     "name": "stdout",
     "output_type": "stream",
     "text": [
      "Total businesses: 150346\n",
      "root\n",
      " |-- address: string (nullable = true)\n",
      " |-- attributes: struct (nullable = true)\n",
      " |    |-- AcceptsInsurance: string (nullable = true)\n",
      " |    |-- AgesAllowed: string (nullable = true)\n",
      " |    |-- Alcohol: string (nullable = true)\n",
      " |    |-- Ambience: string (nullable = true)\n",
      " |    |-- BYOB: string (nullable = true)\n",
      " |    |-- BYOBCorkage: string (nullable = true)\n",
      " |    |-- BestNights: string (nullable = true)\n",
      " |    |-- BikeParking: string (nullable = true)\n",
      " |    |-- BusinessAcceptsBitcoin: string (nullable = true)\n",
      " |    |-- BusinessAcceptsCreditCards: string (nullable = true)\n",
      " |    |-- BusinessParking: string (nullable = true)\n",
      " |    |-- ByAppointmentOnly: string (nullable = true)\n",
      " |    |-- Caters: string (nullable = true)\n",
      " |    |-- CoatCheck: string (nullable = true)\n",
      " |    |-- Corkage: string (nullable = true)\n",
      " |    |-- DietaryRestrictions: string (nullable = true)\n",
      " |    |-- DogsAllowed: string (nullable = true)\n",
      " |    |-- DriveThru: string (nullable = true)\n",
      " |    |-- GoodForDancing: string (nullable = true)\n",
      " |    |-- GoodForKids: string (nullable = true)\n",
      " |    |-- GoodForMeal: string (nullable = true)\n",
      " |    |-- HairSpecializesIn: string (nullable = true)\n",
      " |    |-- HappyHour: string (nullable = true)\n",
      " |    |-- HasTV: string (nullable = true)\n",
      " |    |-- Music: string (nullable = true)\n",
      " |    |-- NoiseLevel: string (nullable = true)\n",
      " |    |-- Open24Hours: string (nullable = true)\n",
      " |    |-- OutdoorSeating: string (nullable = true)\n",
      " |    |-- RestaurantsAttire: string (nullable = true)\n",
      " |    |-- RestaurantsCounterService: string (nullable = true)\n",
      " |    |-- RestaurantsDelivery: string (nullable = true)\n",
      " |    |-- RestaurantsGoodForGroups: string (nullable = true)\n",
      " |    |-- RestaurantsPriceRange2: string (nullable = true)\n",
      " |    |-- RestaurantsReservations: string (nullable = true)\n",
      " |    |-- RestaurantsTableService: string (nullable = true)\n",
      " |    |-- RestaurantsTakeOut: string (nullable = true)\n",
      " |    |-- Smoking: string (nullable = true)\n",
      " |    |-- WheelchairAccessible: string (nullable = true)\n",
      " |    |-- WiFi: string (nullable = true)\n",
      " |-- business_id: string (nullable = true)\n",
      " |-- categories: string (nullable = true)\n",
      " |-- city: string (nullable = true)\n",
      " |-- hours: struct (nullable = true)\n",
      " |    |-- Friday: string (nullable = true)\n",
      " |    |-- Monday: string (nullable = true)\n",
      " |    |-- Saturday: string (nullable = true)\n",
      " |    |-- Sunday: string (nullable = true)\n",
      " |    |-- Thursday: string (nullable = true)\n",
      " |    |-- Tuesday: string (nullable = true)\n",
      " |    |-- Wednesday: string (nullable = true)\n",
      " |-- is_open: long (nullable = true)\n",
      " |-- latitude: double (nullable = true)\n",
      " |-- longitude: double (nullable = true)\n",
      " |-- name: string (nullable = true)\n",
      " |-- postal_code: string (nullable = true)\n",
      " |-- review_count: long (nullable = true)\n",
      " |-- stars: double (nullable = true)\n",
      " |-- state: string (nullable = true)\n",
      "\n"
     ]
    },
    {
     "name": "stderr",
     "output_type": "stream",
     "text": [
      "                                                                                \r"
     ]
    }
   ],
   "source": [
    "print(\"Total businesses:\", df_business.count())\n",
    "df_business.printSchema()"
   ]
  },
  {
   "cell_type": "code",
   "execution_count": 37,
   "id": "edd8bdda-ca58-4455-b539-a625589626d1",
   "metadata": {},
   "outputs": [
    {
     "name": "stderr",
     "output_type": "stream",
     "text": [
      "[Stage 31:>                                                         (0 + 2) / 2]\r"
     ]
    },
    {
     "name": "stdout",
     "output_type": "stream",
     "text": [
      "+-------+------------------+------------------+------------------+\n",
      "|summary|             stars|      review_count|           is_open|\n",
      "+-------+------------------+------------------+------------------+\n",
      "|  count|            150346|            150346|            150346|\n",
      "|   mean|3.5967235576603303| 44.86656113232144|0.7961502135075094|\n",
      "| stddev|0.9744207509201411|121.12013570117037| 0.402859939090063|\n",
      "|    min|               1.0|                 5|                 0|\n",
      "|    max|               5.0|              7568|                 1|\n",
      "+-------+------------------+------------------+------------------+\n",
      "\n"
     ]
    },
    {
     "name": "stderr",
     "output_type": "stream",
     "text": [
      "                                                                                \r"
     ]
    }
   ],
   "source": [
    "# Basic numeric summary\n",
    "df_business.select(\"stars\", \"review_count\", \"is_open\").describe().show()"
   ]
  },
  {
   "cell_type": "code",
   "execution_count": 38,
   "id": "0440c812-f0ec-4e15-90e0-70346b423a4b",
   "metadata": {},
   "outputs": [
    {
     "name": "stderr",
     "output_type": "stream",
     "text": [
      "                                                                                \r"
     ]
    },
    {
     "name": "stdout",
     "output_type": "stream",
     "text": [
      "+-------------+-----+\n",
      "|         city|count|\n",
      "+-------------+-----+\n",
      "| Philadelphia|14569|\n",
      "|       Tucson| 9250|\n",
      "|        Tampa| 9050|\n",
      "| Indianapolis| 7540|\n",
      "|    Nashville| 6971|\n",
      "|  New Orleans| 6209|\n",
      "|         Reno| 5935|\n",
      "|     Edmonton| 5054|\n",
      "|  Saint Louis| 4827|\n",
      "|Santa Barbara| 3829|\n",
      "+-------------+-----+\n",
      "only showing top 10 rows\n",
      "\n",
      "+-----+-----+\n",
      "|state|count|\n",
      "+-----+-----+\n",
      "|   PA|34039|\n",
      "|   FL|26330|\n",
      "|   TN|12056|\n",
      "|   IN|11247|\n",
      "|   MO|10913|\n",
      "|   LA| 9924|\n",
      "|   AZ| 9912|\n",
      "|   NJ| 8536|\n",
      "|   NV| 7715|\n",
      "|   AB| 5573|\n",
      "+-----+-----+\n",
      "only showing top 10 rows\n",
      "\n"
     ]
    }
   ],
   "source": [
    "# Top cities & categories\n",
    "df_business.groupBy(\"city\").count().orderBy(F.desc(\"count\")).show(10)\n",
    "df_business.groupBy(\"state\").count().orderBy(F.desc(\"count\")).show(10)"
   ]
  },
  {
   "cell_type": "markdown",
   "id": "3c8cc248-2347-4a98-81ff-9dafa2d347f6",
   "metadata": {},
   "source": [
    "### Academic User\n",
    "\n",
    "💡 Role:\n",
    "\n",
    "Contains details about users who write reviews or tips.\n",
    "\n"
   ]
  },
  {
   "cell_type": "code",
   "execution_count": 40,
   "id": "171aacf4-a761-486c-8bb0-064f51bb5975",
   "metadata": {},
   "outputs": [],
   "source": [
    "#df_user.limit(1).toPandas()"
   ]
  },
  {
   "cell_type": "markdown",
   "id": "277fc17f-ba3c-4a0b-987f-6a4f24892eaa",
   "metadata": {},
   "source": [
    "#### Academic User Schema"
   ]
  },
  {
   "cell_type": "code",
   "execution_count": 41,
   "id": "b02f54de-97e8-4a1c-ba3b-f65fba1efea7",
   "metadata": {},
   "outputs": [
    {
     "name": "stderr",
     "output_type": "stream",
     "text": [
      "[Stage 41:=====================================================>  (25 + 1) / 26]\r"
     ]
    },
    {
     "name": "stdout",
     "output_type": "stream",
     "text": [
      "Total users: 1987897\n",
      "root\n",
      " |-- average_stars: double (nullable = true)\n",
      " |-- compliment_cool: long (nullable = true)\n",
      " |-- compliment_cute: long (nullable = true)\n",
      " |-- compliment_funny: long (nullable = true)\n",
      " |-- compliment_hot: long (nullable = true)\n",
      " |-- compliment_list: long (nullable = true)\n",
      " |-- compliment_more: long (nullable = true)\n",
      " |-- compliment_note: long (nullable = true)\n",
      " |-- compliment_photos: long (nullable = true)\n",
      " |-- compliment_plain: long (nullable = true)\n",
      " |-- compliment_profile: long (nullable = true)\n",
      " |-- compliment_writer: long (nullable = true)\n",
      " |-- cool: long (nullable = true)\n",
      " |-- elite: string (nullable = true)\n",
      " |-- fans: long (nullable = true)\n",
      " |-- friends: string (nullable = true)\n",
      " |-- funny: long (nullable = true)\n",
      " |-- name: string (nullable = true)\n",
      " |-- review_count: long (nullable = true)\n",
      " |-- useful: long (nullable = true)\n",
      " |-- user_id: string (nullable = true)\n",
      " |-- yelping_since: string (nullable = true)\n",
      "\n"
     ]
    },
    {
     "name": "stderr",
     "output_type": "stream",
     "text": [
      "                                                                                \r"
     ]
    }
   ],
   "source": [
    "print(\"Total users:\", df_user.count())\n",
    "df_user.printSchema()"
   ]
  },
  {
   "cell_type": "markdown",
   "id": "cc18e012-5500-4024-92d3-732e0f54c40d",
   "metadata": {},
   "source": [
    "### Academic Tip\n",
    "\n",
    "💡 Role:\n",
    "\n",
    "Similar to reviews but shorter, like quick “pro-tips” or mini comments."
   ]
  },
  {
   "cell_type": "code",
   "execution_count": 26,
   "id": "ac32f54c-3e5c-49d0-97f4-89181d191901",
   "metadata": {},
   "outputs": [
    {
     "data": {
      "text/html": [
       "<div>\n",
       "<style scoped>\n",
       "    .dataframe tbody tr th:only-of-type {\n",
       "        vertical-align: middle;\n",
       "    }\n",
       "\n",
       "    .dataframe tbody tr th {\n",
       "        vertical-align: top;\n",
       "    }\n",
       "\n",
       "    .dataframe thead th {\n",
       "        text-align: right;\n",
       "    }\n",
       "</style>\n",
       "<table border=\"1\" class=\"dataframe\">\n",
       "  <thead>\n",
       "    <tr style=\"text-align: right;\">\n",
       "      <th></th>\n",
       "      <th>business_id</th>\n",
       "      <th>compliment_count</th>\n",
       "      <th>date</th>\n",
       "      <th>text</th>\n",
       "      <th>user_id</th>\n",
       "    </tr>\n",
       "  </thead>\n",
       "  <tbody>\n",
       "    <tr>\n",
       "      <th>0</th>\n",
       "      <td>3uLgwr0qeCNMjKenHJwPGQ</td>\n",
       "      <td>0</td>\n",
       "      <td>2012-05-18 02:17:21</td>\n",
       "      <td>Avengers time with the ladies.</td>\n",
       "      <td>AGNUgVwnZUey3gcPCJ76iw</td>\n",
       "    </tr>\n",
       "    <tr>\n",
       "      <th>1</th>\n",
       "      <td>QoezRbYQncpRqyrLH6Iqjg</td>\n",
       "      <td>0</td>\n",
       "      <td>2013-02-05 18:35:10</td>\n",
       "      <td>They have lots of good deserts and tasty cuban sandwiches</td>\n",
       "      <td>NBN4MgHP9D3cw--SnauTkA</td>\n",
       "    </tr>\n",
       "    <tr>\n",
       "      <th>2</th>\n",
       "      <td>MYoRNLb5chwjQe3c_k37Gg</td>\n",
       "      <td>0</td>\n",
       "      <td>2013-08-18 00:56:08</td>\n",
       "      <td>It's open even when you think it isn't</td>\n",
       "      <td>-copOvldyKh1qr-vzkDEvw</td>\n",
       "    </tr>\n",
       "    <tr>\n",
       "      <th>3</th>\n",
       "      <td>hV-bABTK-glh5wj31ps_Jw</td>\n",
       "      <td>0</td>\n",
       "      <td>2017-06-27 23:05:38</td>\n",
       "      <td>Very decent fried chicken</td>\n",
       "      <td>FjMQVZjSqY8syIO-53KFKw</td>\n",
       "    </tr>\n",
       "    <tr>\n",
       "      <th>4</th>\n",
       "      <td>_uN0OudeJ3Zl_tf6nxg5ww</td>\n",
       "      <td>0</td>\n",
       "      <td>2012-10-06 19:43:09</td>\n",
       "      <td>Appetizers.. platter special for lunch</td>\n",
       "      <td>ld0AperBXk1h6UbqmM80zw</td>\n",
       "    </tr>\n",
       "  </tbody>\n",
       "</table>\n",
       "</div>"
      ],
      "text/plain": [
       "              business_id  compliment_count                 date                                                       text                 user_id\n",
       "0  3uLgwr0qeCNMjKenHJwPGQ                 0  2012-05-18 02:17:21                             Avengers time with the ladies.  AGNUgVwnZUey3gcPCJ76iw\n",
       "1  QoezRbYQncpRqyrLH6Iqjg                 0  2013-02-05 18:35:10  They have lots of good deserts and tasty cuban sandwiches  NBN4MgHP9D3cw--SnauTkA\n",
       "2  MYoRNLb5chwjQe3c_k37Gg                 0  2013-08-18 00:56:08                     It's open even when you think it isn't  -copOvldyKh1qr-vzkDEvw\n",
       "3  hV-bABTK-glh5wj31ps_Jw                 0  2017-06-27 23:05:38                                  Very decent fried chicken  FjMQVZjSqY8syIO-53KFKw\n",
       "4  _uN0OudeJ3Zl_tf6nxg5ww                 0  2012-10-06 19:43:09                     Appetizers.. platter special for lunch  ld0AperBXk1h6UbqmM80zw"
      ]
     },
     "execution_count": 26,
     "metadata": {},
     "output_type": "execute_result"
    }
   ],
   "source": [
    "df_tip.limit(5).toPandas()"
   ]
  },
  {
   "cell_type": "markdown",
   "id": "3bff046a-583b-4bd2-b215-1961f18e0a0f",
   "metadata": {},
   "source": [
    "#### Academic Tip Schema"
   ]
  },
  {
   "cell_type": "code",
   "execution_count": 44,
   "id": "5d01fecc-0867-4d34-bd4f-54d77fdf922c",
   "metadata": {},
   "outputs": [
    {
     "name": "stderr",
     "output_type": "stream",
     "text": [
      "[Stage 50:>                                                         (0 + 2) / 2]\r"
     ]
    },
    {
     "name": "stdout",
     "output_type": "stream",
     "text": [
      "Total tips: 908915\n",
      "root\n",
      " |-- business_id: string (nullable = true)\n",
      " |-- compliment_count: long (nullable = true)\n",
      " |-- date: string (nullable = true)\n",
      " |-- text: string (nullable = true)\n",
      " |-- user_id: string (nullable = true)\n",
      "\n"
     ]
    },
    {
     "name": "stderr",
     "output_type": "stream",
     "text": [
      "                                                                                \r"
     ]
    }
   ],
   "source": [
    "print(\"Total tips:\", df_tip.count())\n",
    "df_tip.printSchema()"
   ]
  },
  {
   "cell_type": "markdown",
   "id": "09ad8a68-2f88-4d51-8aaa-3b491cf1d2fb",
   "metadata": {},
   "source": [
    "### Academic Review\n",
    "\n",
    "💡 Role:\n",
    "\n",
    "Contains all user-written reviews for each business.\n",
    "\n",
    "{\n",
    "  \"review_id\": \"xQY8N_XvtGbearJ5X0KlyQ\",\n",
    "  \"user_id\": \"OwjRMXRC0KyPrIlcjYv4-A\",\n",
    "  \"business_id\": \"f9NumwFMBDn751xgFiRbNA\",\n",
    "  \"stars\": 4,\n",
    "  \"date\": \"2016-03-09\",\n",
    "  \"text\": \"Great food, friendly staff...\",\n",
    "  \"useful\": 2,\n",
    "  \"funny\": 0,\n",
    "  \"cool\": 1\n",
    "}\n",
    "\n",
    "\n"
   ]
  },
  {
   "cell_type": "code",
   "execution_count": 27,
   "id": "7b323b4f-6300-43e5-a8b9-60bf998815e9",
   "metadata": {},
   "outputs": [
    {
     "data": {
      "text/html": [
       "<div>\n",
       "<style scoped>\n",
       "    .dataframe tbody tr th:only-of-type {\n",
       "        vertical-align: middle;\n",
       "    }\n",
       "\n",
       "    .dataframe tbody tr th {\n",
       "        vertical-align: top;\n",
       "    }\n",
       "\n",
       "    .dataframe thead th {\n",
       "        text-align: right;\n",
       "    }\n",
       "</style>\n",
       "<table border=\"1\" class=\"dataframe\">\n",
       "  <thead>\n",
       "    <tr style=\"text-align: right;\">\n",
       "      <th></th>\n",
       "      <th>business_id</th>\n",
       "      <th>cool</th>\n",
       "      <th>date</th>\n",
       "      <th>funny</th>\n",
       "      <th>review_id</th>\n",
       "      <th>stars</th>\n",
       "      <th>text</th>\n",
       "      <th>useful</th>\n",
       "      <th>user_id</th>\n",
       "    </tr>\n",
       "  </thead>\n",
       "  <tbody>\n",
       "    <tr>\n",
       "      <th>0</th>\n",
       "      <td>XQfwVwDr-v0ZS3_CbbE5Xw</td>\n",
       "      <td>0</td>\n",
       "      <td>2018-07-07 22:09:11</td>\n",
       "      <td>0</td>\n",
       "      <td>KU_O5udG6zpxOg-VcAEodg</td>\n",
       "      <td>3.0</td>\n",
       "      <td>If you decide to eat here, just be aware it is going to take about 2 hours from beginning to end. We have tried it multiple times, because I want to like it! I have been to it's other locations in NJ and never had a bad experience. \\n\\nThe food is good, but it takes a very long time to come out. The waitstaff is very young, but usually pleasant. We have just had too many experiences where we spent way too long waiting. We usually opt for another diner or restaurant on the weekends, in order to be done quicker.</td>\n",
       "      <td>0</td>\n",
       "      <td>mh_-eMZ6K5RLWhZyISBhwA</td>\n",
       "    </tr>\n",
       "    <tr>\n",
       "      <th>1</th>\n",
       "      <td>7ATYjTIgM3jUlt4UM3IypQ</td>\n",
       "      <td>1</td>\n",
       "      <td>2012-01-03 15:28:18</td>\n",
       "      <td>0</td>\n",
       "      <td>BiTunyQ73aT9WBnpR9DZGw</td>\n",
       "      <td>5.0</td>\n",
       "      <td>I've taken a lot of spin classes over the years, and nothing compares to the classes at Body Cycle. From the nice, clean space and amazing bikes, to the welcoming and motivating instructors, every class is a top notch work out.\\n\\nFor anyone who struggles to fit workouts in, the online scheduling system makes it easy to plan ahead (and there's no need to line up way in advanced like many gyms make you do).\\n\\nThere is no way I can write this review without giving Russell, the owner of Body Cycle, a shout out. Russell's passion for fitness and cycling is so evident, as is his desire for all of his clients to succeed. He is always dropping in to classes to check in/provide encouragement, and is open to ideas and recommendations from anyone. Russell always wears a smile on his face, even when he's kicking your butt in class!</td>\n",
       "      <td>1</td>\n",
       "      <td>OyoGAe7OKpv6SyGZT5g77Q</td>\n",
       "    </tr>\n",
       "    <tr>\n",
       "      <th>2</th>\n",
       "      <td>YjUWPpI6HXG530lwP-fb2A</td>\n",
       "      <td>0</td>\n",
       "      <td>2014-02-05 20:30:30</td>\n",
       "      <td>0</td>\n",
       "      <td>saUsX_uimxRlCVr67Z4Jig</td>\n",
       "      <td>3.0</td>\n",
       "      <td>Family diner. Had the buffet. Eclectic assortment: a large chicken leg, fried jalapeño, tamale, two rolled grape leaves, fresh melon. All good. Lots of Mexican choices there. Also has a menu with breakfast served all day long. Friendly, attentive staff. Good place for a casual relaxed meal with no expectations. Next to the Clarion Hotel.</td>\n",
       "      <td>0</td>\n",
       "      <td>8g_iMtfSiwikVnbP2etR0A</td>\n",
       "    </tr>\n",
       "    <tr>\n",
       "      <th>3</th>\n",
       "      <td>kxX2SOes4o-D3ZQBkiMRfA</td>\n",
       "      <td>1</td>\n",
       "      <td>2015-01-04 00:01:03</td>\n",
       "      <td>0</td>\n",
       "      <td>AqPFMleE6RsU23_auESxiA</td>\n",
       "      <td>5.0</td>\n",
       "      <td>Wow!  Yummy, different,  delicious.   Our favorite is the lamb curry and korma.  With 10 different kinds of naan!!!  Don't let the outside deter you (because we almost changed our minds)...go in and try something new!   You'll be glad you did!</td>\n",
       "      <td>1</td>\n",
       "      <td>_7bHUi9Uuf5__HHc_Q8guQ</td>\n",
       "    </tr>\n",
       "    <tr>\n",
       "      <th>4</th>\n",
       "      <td>e4Vwtrqf-wpJfwesgvdgxQ</td>\n",
       "      <td>1</td>\n",
       "      <td>2017-01-14 20:54:15</td>\n",
       "      <td>0</td>\n",
       "      <td>Sx8TMOWLNuJBWer-0pcmoA</td>\n",
       "      <td>4.0</td>\n",
       "      <td>Cute interior and owner (?) gave us tour of upcoming patio/rooftop area which will be great on beautiful days like today. Cheese curds were very good and very filling. Really like that sandwiches come w salad, esp after eating too many curds! Had the onion, gruyere, tomato sandwich. Wasn't too much cheese which I liked. Needed something else...pepper jelly maybe. Would like to see more menu options added such as salads w fun cheeses. Lots of beer and wine as well as limited cocktails. Next time I will try one of the draft wines.</td>\n",
       "      <td>1</td>\n",
       "      <td>bcjbaE6dDog4jkNY91ncLQ</td>\n",
       "    </tr>\n",
       "  </tbody>\n",
       "</table>\n",
       "</div>"
      ],
      "text/plain": [
       "              business_id  cool                 date  funny               review_id  stars                                                                                                                                                                                                                                                                                                                                                                                                                                                                                                                                                                                                                                                                                                                                                                                                                                                               text  useful                 user_id\n",
       "0  XQfwVwDr-v0ZS3_CbbE5Xw     0  2018-07-07 22:09:11      0  KU_O5udG6zpxOg-VcAEodg    3.0                                                                                                                                                                                                                                                                                                                                If you decide to eat here, just be aware it is going to take about 2 hours from beginning to end. We have tried it multiple times, because I want to like it! I have been to it's other locations in NJ and never had a bad experience. \\n\\nThe food is good, but it takes a very long time to come out. The waitstaff is very young, but usually pleasant. We have just had too many experiences where we spent way too long waiting. We usually opt for another diner or restaurant on the weekends, in order to be done quicker.       0  mh_-eMZ6K5RLWhZyISBhwA\n",
       "1  7ATYjTIgM3jUlt4UM3IypQ     1  2012-01-03 15:28:18      0  BiTunyQ73aT9WBnpR9DZGw    5.0  I've taken a lot of spin classes over the years, and nothing compares to the classes at Body Cycle. From the nice, clean space and amazing bikes, to the welcoming and motivating instructors, every class is a top notch work out.\\n\\nFor anyone who struggles to fit workouts in, the online scheduling system makes it easy to plan ahead (and there's no need to line up way in advanced like many gyms make you do).\\n\\nThere is no way I can write this review without giving Russell, the owner of Body Cycle, a shout out. Russell's passion for fitness and cycling is so evident, as is his desire for all of his clients to succeed. He is always dropping in to classes to check in/provide encouragement, and is open to ideas and recommendations from anyone. Russell always wears a smile on his face, even when he's kicking your butt in class!       1  OyoGAe7OKpv6SyGZT5g77Q\n",
       "2  YjUWPpI6HXG530lwP-fb2A     0  2014-02-05 20:30:30      0  saUsX_uimxRlCVr67Z4Jig    3.0                                                                                                                                                                                                                                                                                                                                                                                                                                                                                                                Family diner. Had the buffet. Eclectic assortment: a large chicken leg, fried jalapeño, tamale, two rolled grape leaves, fresh melon. All good. Lots of Mexican choices there. Also has a menu with breakfast served all day long. Friendly, attentive staff. Good place for a casual relaxed meal with no expectations. Next to the Clarion Hotel.       0  8g_iMtfSiwikVnbP2etR0A\n",
       "3  kxX2SOes4o-D3ZQBkiMRfA     1  2015-01-04 00:01:03      0  AqPFMleE6RsU23_auESxiA    5.0                                                                                                                                                                                                                                                                                                                                                                                                                                                                                                                                                                                                                Wow!  Yummy, different,  delicious.   Our favorite is the lamb curry and korma.  With 10 different kinds of naan!!!  Don't let the outside deter you (because we almost changed our minds)...go in and try something new!   You'll be glad you did!       1  _7bHUi9Uuf5__HHc_Q8guQ\n",
       "4  e4Vwtrqf-wpJfwesgvdgxQ     1  2017-01-14 20:54:15      0  Sx8TMOWLNuJBWer-0pcmoA    4.0                                                                                                                                                                                                                                                                                                             Cute interior and owner (?) gave us tour of upcoming patio/rooftop area which will be great on beautiful days like today. Cheese curds were very good and very filling. Really like that sandwiches come w salad, esp after eating too many curds! Had the onion, gruyere, tomato sandwich. Wasn't too much cheese which I liked. Needed something else...pepper jelly maybe. Would like to see more menu options added such as salads w fun cheeses. Lots of beer and wine as well as limited cocktails. Next time I will try one of the draft wines.       1  bcjbaE6dDog4jkNY91ncLQ"
      ]
     },
     "execution_count": 27,
     "metadata": {},
     "output_type": "execute_result"
    }
   ],
   "source": [
    "df_review.limit(5).toPandas()\n",
    "\n",
    "#how many review was madde,\n",
    "#The highest amount of reviews one person can make\n",
    "#the top business has highest user reviews?\n",
    "#The time reviews was mades"
   ]
  },
  {
   "cell_type": "markdown",
   "id": "c60e6c8c-b958-4e1e-8f78-0e5b886d3ac0",
   "metadata": {},
   "source": [
    "#### Academic Review Schema"
   ]
  },
  {
   "cell_type": "code",
   "execution_count": 43,
   "id": "a62d0b08-d665-49ae-bd5c-c64ec73c02fc",
   "metadata": {},
   "outputs": [
    {
     "name": "stderr",
     "output_type": "stream",
     "text": [
      "[Stage 47:======================================================> (39 + 1) / 40]\r"
     ]
    },
    {
     "name": "stdout",
     "output_type": "stream",
     "text": [
      "Total reviews: 6990280\n",
      "root\n",
      " |-- business_id: string (nullable = true)\n",
      " |-- cool: long (nullable = true)\n",
      " |-- date: string (nullable = true)\n",
      " |-- funny: long (nullable = true)\n",
      " |-- review_id: string (nullable = true)\n",
      " |-- stars: double (nullable = true)\n",
      " |-- text: string (nullable = true)\n",
      " |-- useful: long (nullable = true)\n",
      " |-- user_id: string (nullable = true)\n",
      "\n"
     ]
    },
    {
     "name": "stderr",
     "output_type": "stream",
     "text": [
      "                                                                                \r"
     ]
    }
   ],
   "source": [
    "print(\"Total reviews:\", df_review.count())\n",
    "df_review.printSchema()"
   ]
  },
  {
   "cell_type": "markdown",
   "id": "0081eded-9d75-44ef-b3dc-300847dc61dd",
   "metadata": {},
   "source": [
    "### Academic Checkin\n",
    "\n",
    "💡 Role:\n",
    "\n",
    "Stores check-in records: when users visited a business."
   ]
  },
  {
   "cell_type": "code",
   "execution_count": 30,
   "id": "6e6b28b4-b7bb-4873-a686-f1978826669a",
   "metadata": {},
   "outputs": [
    {
     "data": {
      "text/html": [
       "<div>\n",
       "<style scoped>\n",
       "    .dataframe tbody tr th:only-of-type {\n",
       "        vertical-align: middle;\n",
       "    }\n",
       "\n",
       "    .dataframe tbody tr th {\n",
       "        vertical-align: top;\n",
       "    }\n",
       "\n",
       "    .dataframe thead th {\n",
       "        text-align: right;\n",
       "    }\n",
       "</style>\n",
       "<table border=\"1\" class=\"dataframe\">\n",
       "  <thead>\n",
       "    <tr style=\"text-align: right;\">\n",
       "      <th></th>\n",
       "      <th>business_id</th>\n",
       "      <th>date</th>\n",
       "    </tr>\n",
       "  </thead>\n",
       "  <tbody>\n",
       "    <tr>\n",
       "      <th>0</th>\n",
       "      <td>---kPU91CF4Lq2-WlRu9Lw</td>\n",
       "      <td>2020-03-13 21:10:56, 2020-06-02 22:18:06, 2020-07-24 22:42:27, 2020-10-24 21:36:13, 2020-12-09 21:23:33, 2021-01-20 17:34:57, 2021-04-30 21:02:03, 2021-05-25 21:16:54, 2021-08-06 21:08:08, 2021-10-02 15:15:42, 2021-11-11 16:23:50</td>\n",
       "    </tr>\n",
       "    <tr>\n",
       "      <th>1</th>\n",
       "      <td>--0iUa4sNDFiZFrAdIWhZQ</td>\n",
       "      <td>2010-09-13 21:43:09, 2011-05-04 23:08:15, 2011-07-18 22:30:31, 2012-09-07 20:28:50, 2013-03-27 15:57:36, 2013-08-13 00:31:34, 2013-08-13 00:31:48, 2013-09-23 17:39:38, 2013-11-18 06:34:08, 2014-04-12 23:04:47</td>\n",
       "    </tr>\n",
       "    <tr>\n",
       "      <th>2</th>\n",
       "      <td>--30_8IhuyMHbSOcNWd6DQ</td>\n",
       "      <td>2013-06-14 23:29:17, 2014-08-13 23:20:22</td>\n",
       "    </tr>\n",
       "    <tr>\n",
       "      <th>3</th>\n",
       "      <td>--7PUidqRWpRSpXebiyxTg</td>\n",
       "      <td>2011-02-15 17:12:00, 2011-07-28 02:46:10, 2012-03-11 10:30:02, 2012-04-24 07:07:59, 2012-04-24 07:43:31, 2013-05-25 16:41:10, 2014-05-02 15:49:55, 2014-09-18 02:28:23, 2014-11-10 15:16:43, 2015-09-27 13:18:32</td>\n",
       "    </tr>\n",
       "    <tr>\n",
       "      <th>4</th>\n",
       "      <td>--7jw19RH9JKXgFohspgQw</td>\n",
       "      <td>2014-04-21 20:42:11, 2014-04-28 21:04:46, 2014-09-30 14:41:47, 2014-10-23 18:22:28, 2015-04-27 19:55:00, 2015-09-21 12:52:09, 2015-10-01 12:46:16, 2015-10-22 13:35:04, 2016-01-14 12:27:43, 2016-02-01 15:15:07, 2016-02-11 12:22:47, 2016-03-31 23:15:46, 2016-04-11 13:11:34, 2016-05-25 12:44:11, 2016-06-27 15:46:11, 2016-06-30 15:14:28, 2016-07-28 14:15:59, 2016-09-22 20:05:06, 2016-11-16 19:00:11, 2016-12-27 14:36:14, 2017-01-24 20:18:16, 2017-02-21 16:01:49, 2017-03-21 14:08:44, 2017-05-21 16:07:21, 2017-08-07 14:17:39, 2021-06-21 19:59:50</td>\n",
       "    </tr>\n",
       "  </tbody>\n",
       "</table>\n",
       "</div>"
      ],
      "text/plain": [
       "              business_id                                                                                                                                                                                                                                                                                                                                                                                                                                                                                                                                                              date\n",
       "0  ---kPU91CF4Lq2-WlRu9Lw                                                                                                                                                                                                                                                                                                                             2020-03-13 21:10:56, 2020-06-02 22:18:06, 2020-07-24 22:42:27, 2020-10-24 21:36:13, 2020-12-09 21:23:33, 2021-01-20 17:34:57, 2021-04-30 21:02:03, 2021-05-25 21:16:54, 2021-08-06 21:08:08, 2021-10-02 15:15:42, 2021-11-11 16:23:50\n",
       "1  --0iUa4sNDFiZFrAdIWhZQ                                                                                                                                                                                                                                                                                                                                                  2010-09-13 21:43:09, 2011-05-04 23:08:15, 2011-07-18 22:30:31, 2012-09-07 20:28:50, 2013-03-27 15:57:36, 2013-08-13 00:31:34, 2013-08-13 00:31:48, 2013-09-23 17:39:38, 2013-11-18 06:34:08, 2014-04-12 23:04:47\n",
       "2  --30_8IhuyMHbSOcNWd6DQ                                                                                                                                                                                                                                                                                                                                                                                                                                                                                                                          2013-06-14 23:29:17, 2014-08-13 23:20:22\n",
       "3  --7PUidqRWpRSpXebiyxTg                                                                                                                                                                                                                                                                                                                                                  2011-02-15 17:12:00, 2011-07-28 02:46:10, 2012-03-11 10:30:02, 2012-04-24 07:07:59, 2012-04-24 07:43:31, 2013-05-25 16:41:10, 2014-05-02 15:49:55, 2014-09-18 02:28:23, 2014-11-10 15:16:43, 2015-09-27 13:18:32\n",
       "4  --7jw19RH9JKXgFohspgQw  2014-04-21 20:42:11, 2014-04-28 21:04:46, 2014-09-30 14:41:47, 2014-10-23 18:22:28, 2015-04-27 19:55:00, 2015-09-21 12:52:09, 2015-10-01 12:46:16, 2015-10-22 13:35:04, 2016-01-14 12:27:43, 2016-02-01 15:15:07, 2016-02-11 12:22:47, 2016-03-31 23:15:46, 2016-04-11 13:11:34, 2016-05-25 12:44:11, 2016-06-27 15:46:11, 2016-06-30 15:14:28, 2016-07-28 14:15:59, 2016-09-22 20:05:06, 2016-11-16 19:00:11, 2016-12-27 14:36:14, 2017-01-24 20:18:16, 2017-02-21 16:01:49, 2017-03-21 14:08:44, 2017-05-21 16:07:21, 2017-08-07 14:17:39, 2021-06-21 19:59:50"
      ]
     },
     "execution_count": 30,
     "metadata": {},
     "output_type": "execute_result"
    }
   ],
   "source": [
    "df_checkin.limit(5).toPandas()"
   ]
  },
  {
   "cell_type": "markdown",
   "id": "9cf38f91-d84d-4c02-9097-112bba4c25fd",
   "metadata": {},
   "source": [
    "#### Academic Chekin"
   ]
  },
  {
   "cell_type": "code",
   "execution_count": 45,
   "id": "5fb82616-ce8f-4a18-abbc-b3d82f40bac3",
   "metadata": {},
   "outputs": [
    {
     "name": "stderr",
     "output_type": "stream",
     "text": [
      "[Stage 53:===================>                                      (1 + 2) / 3]\r"
     ]
    },
    {
     "name": "stdout",
     "output_type": "stream",
     "text": [
      "Total checkin entries: 131930\n",
      "root\n",
      " |-- business_id: string (nullable = true)\n",
      " |-- date: string (nullable = true)\n",
      "\n"
     ]
    },
    {
     "name": "stderr",
     "output_type": "stream",
     "text": [
      "                                                                                \r"
     ]
    }
   ],
   "source": [
    "print(\"Total checkin entries:\", df_checkin.count())\n",
    "df_checkin.printSchema()"
   ]
  },
  {
   "cell_type": "code",
   "execution_count": null,
   "id": "91acf7a5-102f-476b-9c76-f3a9778c72b5",
   "metadata": {},
   "outputs": [],
   "source": []
  }
 ],
 "metadata": {
  "kernelspec": {
   "display_name": "Python 3 (ipykernel)",
   "language": "python",
   "name": "python3"
  },
  "language_info": {
   "codemirror_mode": {
    "name": "ipython",
    "version": 3
   },
   "file_extension": ".py",
   "mimetype": "text/x-python",
   "name": "python",
   "nbconvert_exporter": "python",
   "pygments_lexer": "ipython3",
   "version": "3.8.10"
  }
 },
 "nbformat": 4,
 "nbformat_minor": 5
}
