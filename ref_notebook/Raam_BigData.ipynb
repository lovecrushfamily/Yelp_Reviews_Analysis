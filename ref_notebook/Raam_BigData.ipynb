{
 "cells": [
  {
   "cell_type": "code",
   "execution_count": 1,
   "metadata": {},
   "outputs": [],
   "source": [
    "import ast\n",
    "import pyspark\n",
    "import operator\n",
    "import numpy as np\n",
    "import matplotlib.pyplot as plt\n",
    "from operator import add\n",
    "from pyspark.sql.types import *\n",
    "from pyspark.sql.functions import udf\n",
    "from pyspark import SparkConf, SparkContext\n",
    "from pyspark.sql.functions import col,split,explode,array_contains\n"
   ]
  },
  {
   "cell_type": "code",
   "execution_count": 2,
   "metadata": {},
   "outputs": [],
   "source": [
    "conf = SparkConf().setMaster(\"local[*]\").setAppName(\"lab6\")\n",
    "sc = SparkContext(conf=conf)\n",
    "sqlContext = pyspark.SQLContext(sc)"
   ]
  },
  {
   "cell_type": "code",
   "execution_count": 3,
   "metadata": {},
   "outputs": [
    {
     "name": "stdout",
     "output_type": "stream",
     "text": [
      "Row(address='10913 Bailey Rd', attributes=Row(AcceptsInsurance=None, AgesAllowed=None, Alcohol=None, Ambience=None, BYOB=None, BYOBCorkage=None, BestNights=None, BikeParking='True', BusinessAcceptsBitcoin=None, BusinessAcceptsCreditCards='True', BusinessParking=\"{'garage': False, 'street': False, 'validated': False, 'lot': True, 'valet': False}\", ByAppointmentOnly='False', Caters=None, CoatCheck=None, Corkage=None, DietaryRestrictions=None, DogsAllowed=None, DriveThru=None, GoodForDancing=None, GoodForKids='False', GoodForMeal=None, HairSpecializesIn=None, HappyHour=None, HasTV=None, Music=None, NoiseLevel=None, Open24Hours=None, OutdoorSeating=None, RestaurantsAttire=None, RestaurantsCounterService=None, RestaurantsDelivery=None, RestaurantsGoodForGroups=None, RestaurantsPriceRange2='3', RestaurantsReservations=None, RestaurantsTableService=None, RestaurantsTakeOut=None, Smoking=None, WheelchairAccessible=None, WiFi=None), business_id='f9NumwFMBDn751xgFiRbNA', categories='Active Life, Gun/Rifle Ranges, Guns & Ammo, Shopping', city='Cornelius', hours=Row(Friday='11:0-20:0', Monday='10:0-18:0', Saturday='11:0-20:0', Sunday='13:0-18:0', Thursday='11:0-20:0', Tuesday='11:0-20:0', Wednesday='10:0-18:0'), is_open=1, latitude=35.4627242, longitude=-80.8526119, name='The Range At Lake Norman', postal_code='28031', review_count=36, stars=3.5, state='NC')\n",
      "209393\n"
     ]
    }
   ],
   "source": [
    "#Loading the Dataset\n",
    "data = sqlContext.read.json(\"E:/RAAM/GSU MSA/yelp.json\")\n",
    "\n",
    "print(data.first())\n",
    "print(data.count())"
   ]
  },
  {
   "cell_type": "code",
   "execution_count": 4,
   "metadata": {},
   "outputs": [
    {
     "data": {
      "text/plain": [
       "'Active Life, Gun/Rifle Ranges, Guns & Ammo, Shopping'"
      ]
     },
     "execution_count": 4,
     "metadata": {},
     "output_type": "execute_result"
    }
   ],
   "source": [
    "data.first()['categories']"
   ]
  },
  {
   "cell_type": "code",
   "execution_count": 5,
   "metadata": {},
   "outputs": [
    {
     "data": {
      "text/plain": [
       "[Row(address='10913 Bailey Rd', attributes=Row(AcceptsInsurance=None, AgesAllowed=None, Alcohol=None, Ambience=None, BYOB=None, BYOBCorkage=None, BestNights=None, BikeParking='True', BusinessAcceptsBitcoin=None, BusinessAcceptsCreditCards='True', BusinessParking=\"{'garage': False, 'street': False, 'validated': False, 'lot': True, 'valet': False}\", ByAppointmentOnly='False', Caters=None, CoatCheck=None, Corkage=None, DietaryRestrictions=None, DogsAllowed=None, DriveThru=None, GoodForDancing=None, GoodForKids='False', GoodForMeal=None, HairSpecializesIn=None, HappyHour=None, HasTV=None, Music=None, NoiseLevel=None, Open24Hours=None, OutdoorSeating=None, RestaurantsAttire=None, RestaurantsCounterService=None, RestaurantsDelivery=None, RestaurantsGoodForGroups=None, RestaurantsPriceRange2='3', RestaurantsReservations=None, RestaurantsTableService=None, RestaurantsTakeOut=None, Smoking=None, WheelchairAccessible=None, WiFi=None), business_id='f9NumwFMBDn751xgFiRbNA', categories='Active Life, Gun/Rifle Ranges, Guns & Ammo, Shopping', city='Cornelius', hours=Row(Friday='11:0-20:0', Monday='10:0-18:0', Saturday='11:0-20:0', Sunday='13:0-18:0', Thursday='11:0-20:0', Tuesday='11:0-20:0', Wednesday='10:0-18:0'), is_open=1, latitude=35.4627242, longitude=-80.8526119, name='The Range At Lake Norman', postal_code='28031', review_count=36, stars=3.5, state='NC'),\n",
       " Row(address='8880 E Via Linda, Ste 107', attributes=Row(AcceptsInsurance=None, AgesAllowed=None, Alcohol=None, Ambience=None, BYOB=None, BYOBCorkage=None, BestNights=None, BikeParking=None, BusinessAcceptsBitcoin=None, BusinessAcceptsCreditCards=None, BusinessParking=None, ByAppointmentOnly='True', Caters=None, CoatCheck=None, Corkage=None, DietaryRestrictions=None, DogsAllowed=None, DriveThru=None, GoodForDancing=None, GoodForKids='True', GoodForMeal=None, HairSpecializesIn=None, HappyHour=None, HasTV=None, Music=None, NoiseLevel=None, Open24Hours=None, OutdoorSeating=None, RestaurantsAttire=None, RestaurantsCounterService=None, RestaurantsDelivery=None, RestaurantsGoodForGroups=None, RestaurantsPriceRange2=None, RestaurantsReservations=None, RestaurantsTableService=None, RestaurantsTakeOut=None, Smoking=None, WheelchairAccessible=None, WiFi=None), business_id='Yzvjg0SayhoZgCljUJRF9Q', categories='Health & Medical, Fitness & Instruction, Yoga, Active Life, Pilates', city='Scottsdale', hours=None, is_open=1, latitude=33.5694041, longitude=-111.8902637, name='Carlos Santo, NMD', postal_code='85258', review_count=4, stars=5.0, state='AZ')]"
      ]
     },
     "execution_count": 5,
     "metadata": {},
     "output_type": "execute_result"
    }
   ],
   "source": [
    "df=data.collect()\n",
    "df[0:2]"
   ]
  },
  {
   "cell_type": "code",
   "execution_count": 6,
   "metadata": {},
   "outputs": [
    {
     "data": {
      "text/plain": [
       "[Row(address='10913 Bailey Rd', attributes=Row(AcceptsInsurance=None, AgesAllowed=None, Alcohol=None, Ambience=None, BYOB=None, BYOBCorkage=None, BestNights=None, BikeParking='True', BusinessAcceptsBitcoin=None, BusinessAcceptsCreditCards='True', BusinessParking=\"{'garage': False, 'street': False, 'validated': False, 'lot': True, 'valet': False}\", ByAppointmentOnly='False', Caters=None, CoatCheck=None, Corkage=None, DietaryRestrictions=None, DogsAllowed=None, DriveThru=None, GoodForDancing=None, GoodForKids='False', GoodForMeal=None, HairSpecializesIn=None, HappyHour=None, HasTV=None, Music=None, NoiseLevel=None, Open24Hours=None, OutdoorSeating=None, RestaurantsAttire=None, RestaurantsCounterService=None, RestaurantsDelivery=None, RestaurantsGoodForGroups=None, RestaurantsPriceRange2='3', RestaurantsReservations=None, RestaurantsTableService=None, RestaurantsTakeOut=None, Smoking=None, WheelchairAccessible=None, WiFi=None), business_id='f9NumwFMBDn751xgFiRbNA', categories='Active Life, Gun/Rifle Ranges, Guns & Ammo, Shopping', city='Cornelius', hours=Row(Friday='11:0-20:0', Monday='10:0-18:0', Saturday='11:0-20:0', Sunday='13:0-18:0', Thursday='11:0-20:0', Tuesday='11:0-20:0', Wednesday='10:0-18:0'), is_open=1, latitude=35.4627242, longitude=-80.8526119, name='The Range At Lake Norman', postal_code='28031', review_count=36, stars=3.5, state='NC'),\n",
       " Row(address='8880 E Via Linda, Ste 107', attributes=Row(AcceptsInsurance=None, AgesAllowed=None, Alcohol=None, Ambience=None, BYOB=None, BYOBCorkage=None, BestNights=None, BikeParking=None, BusinessAcceptsBitcoin=None, BusinessAcceptsCreditCards=None, BusinessParking=None, ByAppointmentOnly='True', Caters=None, CoatCheck=None, Corkage=None, DietaryRestrictions=None, DogsAllowed=None, DriveThru=None, GoodForDancing=None, GoodForKids='True', GoodForMeal=None, HairSpecializesIn=None, HappyHour=None, HasTV=None, Music=None, NoiseLevel=None, Open24Hours=None, OutdoorSeating=None, RestaurantsAttire=None, RestaurantsCounterService=None, RestaurantsDelivery=None, RestaurantsGoodForGroups=None, RestaurantsPriceRange2=None, RestaurantsReservations=None, RestaurantsTableService=None, RestaurantsTakeOut=None, Smoking=None, WheelchairAccessible=None, WiFi=None), business_id='Yzvjg0SayhoZgCljUJRF9Q', categories='Health & Medical, Fitness & Instruction, Yoga, Active Life, Pilates', city='Scottsdale', hours=None, is_open=1, latitude=33.5694041, longitude=-111.8902637, name='Carlos Santo, NMD', postal_code='85258', review_count=4, stars=5.0, state='AZ')]"
      ]
     },
     "execution_count": 6,
     "metadata": {},
     "output_type": "execute_result"
    }
   ],
   "source": [
    "#Filter Businesses with stars more than 3.5 and where categories is not Null\n",
    "data=data.filter(data['stars']>=3.5)\n",
    "data=data.filter(\"categories is not Null\")\n",
    "data.collect()[0:2]"
   ]
  },
  {
   "cell_type": "code",
   "execution_count": 7,
   "metadata": {},
   "outputs": [],
   "source": [
    "def get_keyval(row):\n",
    " \n",
    "    # get the text from the row entry\n",
    "    cat=row.categories\n",
    "    if cat is None:\n",
    "        return [['None',1]]\n",
    "    #lower case text and split by space to get the words\n",
    "    words=cat.split(\",\")\n",
    " \n",
    "    #for each word, send back a count of 1\n",
    "    #send a list of lists\n",
    "    return [[w.strip(), 1] for w in words]\n",
    " "
   ]
  },
  {
   "cell_type": "code",
   "execution_count": 8,
   "metadata": {},
   "outputs": [],
   "source": [
    "sum_all = data.rdd.flatMap(lambda x:get_keyval(x))\n",
    "counts_rdd = sum_all.reduceByKey(add)\n",
    "word_count = counts_rdd.collect ()"
   ]
  },
  {
   "cell_type": "code",
   "execution_count": 9,
   "metadata": {},
   "outputs": [
    {
     "data": {
      "text/plain": [
       "tuple"
      ]
     },
     "execution_count": 9,
     "metadata": {},
     "output_type": "execute_result"
    }
   ],
   "source": [
    "type(word_count[0])"
   ]
  },
  {
   "cell_type": "code",
   "execution_count": 10,
   "metadata": {},
   "outputs": [],
   "source": [
    "word_count.sort(key=operator.itemgetter(1),reverse=True)"
   ]
  },
  {
   "cell_type": "code",
   "execution_count": 11,
   "metadata": {},
   "outputs": [
    {
     "data": {
      "text/plain": [
       "[('Restaurants', 40216),\n",
       " ('Food', 22417),\n",
       " ('Shopping', 21915),\n",
       " ('Beauty & Spas', 14675),\n",
       " ('Home Services', 13391),\n",
       " ('Health & Medical', 12833),\n",
       " ('Local Services', 10293),\n",
       " ('Nightlife', 9578),\n",
       " ('Automotive', 8706),\n",
       " ('Bars', 8396)]"
      ]
     },
     "execution_count": 11,
     "metadata": {},
     "output_type": "execute_result"
    }
   ],
   "source": [
    "word_count[0:10]"
   ]
  },
  {
   "cell_type": "code",
   "execution_count": 12,
   "metadata": {},
   "outputs": [],
   "source": [
    "def attribute_count(row):\n",
    " \n",
    "    # get the text from the row entry\n",
    "    row=row['attributes']\n",
    "    super_list=[]\n",
    "    if row is not None:\n",
    "        row=row.asDict()\n",
    "        for i in row:\n",
    "            if row[i] is not None and row[i]!='False':\n",
    "                if '{' in row[i]:\n",
    "                    sub_dict=ast.literal_eval(row[i])\n",
    "                    sub_list=[[(j,sub_dict[j]),1] for j in sub_dict if sub_dict[j] is not None and sub_dict[j]!='False' and sub_dict[j]!=False]\n",
    "                    super_list=super_list+sub_list\n",
    "                else:\n",
    "                    super_list.append([(i,row[i]),1])\n",
    "    if len(super_list)==0:\n",
    "        super_list=[[('No_attribute','None'),1]]\n",
    "                    \n",
    "    return super_list\n",
    " "
   ]
  },
  {
   "cell_type": "code",
   "execution_count": 13,
   "metadata": {},
   "outputs": [],
   "source": [
    "def processing_list(x):\n",
    "    splitlist=x.split(',')\n",
    "    return [i.strip() for i in splitlist]\n"
   ]
  },
  {
   "cell_type": "code",
   "execution_count": 14,
   "metadata": {},
   "outputs": [],
   "source": [
    "udfValueToCategory = udf(processing_list, ArrayType(StringType()))\n",
    "data = data.withColumn(\"categories\", udfValueToCategory(\"categories\"))\n"
   ]
  },
  {
   "cell_type": "code",
   "execution_count": 15,
   "metadata": {},
   "outputs": [
    {
     "data": {
      "text/plain": [
       "[Row(address='10913 Bailey Rd', attributes=Row(AcceptsInsurance=None, AgesAllowed=None, Alcohol=None, Ambience=None, BYOB=None, BYOBCorkage=None, BestNights=None, BikeParking='True', BusinessAcceptsBitcoin=None, BusinessAcceptsCreditCards='True', BusinessParking=\"{'garage': False, 'street': False, 'validated': False, 'lot': True, 'valet': False}\", ByAppointmentOnly='False', Caters=None, CoatCheck=None, Corkage=None, DietaryRestrictions=None, DogsAllowed=None, DriveThru=None, GoodForDancing=None, GoodForKids='False', GoodForMeal=None, HairSpecializesIn=None, HappyHour=None, HasTV=None, Music=None, NoiseLevel=None, Open24Hours=None, OutdoorSeating=None, RestaurantsAttire=None, RestaurantsCounterService=None, RestaurantsDelivery=None, RestaurantsGoodForGroups=None, RestaurantsPriceRange2='3', RestaurantsReservations=None, RestaurantsTableService=None, RestaurantsTakeOut=None, Smoking=None, WheelchairAccessible=None, WiFi=None), business_id='f9NumwFMBDn751xgFiRbNA', categories=['Active Life', 'Gun/Rifle Ranges', 'Guns & Ammo', 'Shopping'], city='Cornelius', hours=Row(Friday='11:0-20:0', Monday='10:0-18:0', Saturday='11:0-20:0', Sunday='13:0-18:0', Thursday='11:0-20:0', Tuesday='11:0-20:0', Wednesday='10:0-18:0'), is_open=1, latitude=35.4627242, longitude=-80.8526119, name='The Range At Lake Norman', postal_code='28031', review_count=36, stars=3.5, state='NC'),\n",
       " Row(address='8880 E Via Linda, Ste 107', attributes=Row(AcceptsInsurance=None, AgesAllowed=None, Alcohol=None, Ambience=None, BYOB=None, BYOBCorkage=None, BestNights=None, BikeParking=None, BusinessAcceptsBitcoin=None, BusinessAcceptsCreditCards=None, BusinessParking=None, ByAppointmentOnly='True', Caters=None, CoatCheck=None, Corkage=None, DietaryRestrictions=None, DogsAllowed=None, DriveThru=None, GoodForDancing=None, GoodForKids='True', GoodForMeal=None, HairSpecializesIn=None, HappyHour=None, HasTV=None, Music=None, NoiseLevel=None, Open24Hours=None, OutdoorSeating=None, RestaurantsAttire=None, RestaurantsCounterService=None, RestaurantsDelivery=None, RestaurantsGoodForGroups=None, RestaurantsPriceRange2=None, RestaurantsReservations=None, RestaurantsTableService=None, RestaurantsTakeOut=None, Smoking=None, WheelchairAccessible=None, WiFi=None), business_id='Yzvjg0SayhoZgCljUJRF9Q', categories=['Health & Medical', 'Fitness & Instruction', 'Yoga', 'Active Life', 'Pilates'], city='Scottsdale', hours=None, is_open=1, latitude=33.5694041, longitude=-111.8902637, name='Carlos Santo, NMD', postal_code='85258', review_count=4, stars=5.0, state='AZ')]"
      ]
     },
     "execution_count": 15,
     "metadata": {},
     "output_type": "execute_result"
    }
   ],
   "source": [
    "data.collect()[0:2]"
   ]
  },
  {
   "cell_type": "code",
   "execution_count": 16,
   "metadata": {},
   "outputs": [],
   "source": [
    "def filtered_data_processing(category):\n",
    "    filtered_data=data.filter(array_contains(data['categories'],category))\n",
    "    print(len(filtered_data.collect()))\n",
    "    sum_all_attributes = filtered_data.rdd.flatMap(lambda x:attribute_count(x))\n",
    "    counts_rdd_attributes = sum_all_attributes.reduceByKey(add)\n",
    "    word_count_attributes = counts_rdd_attributes.collect()\n",
    "    word_count_attributes.sort(key=operator.itemgetter(1),reverse=True)\n",
    "    return word_count_attributes"
   ]
  },
  {
   "cell_type": "code",
   "execution_count": 17,
   "metadata": {},
   "outputs": [],
   "source": [
    "def bar_graph(word_count_attributes):\n",
    "    plt.figure(figsize=(5,5))\n",
    "    top_attrs=[]\n",
    "    for i in range(0,10):\n",
    "        if word_count_attributes[i][0][1]!=True and word_count_attributes[i][0][1]!='True':\n",
    "            top_attrs.append(word_count_attributes[i][0][0]+' - '+word_count_attributes[i][0][1])\n",
    "        else:\n",
    "            top_attrs.append(word_count_attributes[i][0][0])\n",
    "    height = [i[1] for i in word_count_attributes[0:10]]\n",
    "    bars = tuple(top_attrs)\n",
    "    y_pos = np.arange(len(bars))\n",
    " \n",
    "    # Create bars\n",
    "    plt.barh(y_pos, height)\n",
    " \n",
    "    # Create names on the x-axis\n",
    "    plt.yticks(y_pos, bars)\n",
    " \n",
    "    # Show graphic\n",
    "    plt.show()\n",
    "\n"
   ]
  },
  {
   "cell_type": "code",
   "execution_count": 18,
   "metadata": {},
   "outputs": [
    {
     "name": "stdout",
     "output_type": "stream",
     "text": [
      "40216\n"
     ]
    },
    {
     "data": {
      "text/plain": [
       "[(('RestaurantsTakeOut', 'True'), 32791),\n",
       " (('RestaurantsGoodForGroups', 'True'), 28635),\n",
       " (('GoodForKids', 'True'), 27067),\n",
       " (('HasTV', 'True'), 23284),\n",
       " (('BusinessAcceptsCreditCards', 'True'), 22279),\n",
       " (('BikeParking', 'True'), 21379),\n",
       " (('RestaurantsPriceRange2', '2'), 18982),\n",
       " (('RestaurantsAttire', \"u'casual'\"), 17896),\n",
       " (('NoiseLevel', \"u'average'\"), 15634),\n",
       " (('lot', True), 15337)]"
      ]
     },
     "execution_count": 18,
     "metadata": {},
     "output_type": "execute_result"
    }
   ],
   "source": [
    "#Restaurants\n",
    "word_count_attributes_restaurants=filtered_data_processing('Restaurants')\n",
    "word_count_attributes_restaurants[0:10]"
   ]
  },
  {
   "cell_type": "code",
   "execution_count": 19,
   "metadata": {},
   "outputs": [
    {
     "data": {
      "image/png": "[encoded data removed]",
      "text/plain": [
       "<Figure size 360x360 with 1 Axes>"
      ]
     },
     "metadata": {
      "needs_background": "light"
     },
     "output_type": "display_data"
    }
   ],
   "source": [
    "bar_graph(word_count_attributes_restaurants)"
   ]
  },
  {
   "cell_type": "code",
   "execution_count": 20,
   "metadata": {},
   "outputs": [
    {
     "name": "stdout",
     "output_type": "stream",
     "text": [
      "22417\n"
     ]
    },
    {
     "data": {
      "text/plain": [
       "[(('RestaurantsTakeOut', 'True'), 15217),\n",
       " (('BikeParking', 'True'), 13173),\n",
       " (('BusinessAcceptsCreditCards', 'True'), 13067),\n",
       " (('RestaurantsPriceRange2', '2'), 9764),\n",
       " (('lot', True), 8476),\n",
       " (('RestaurantsPriceRange2', '1'), 8347),\n",
       " (('GoodForKids', 'True'), 8086),\n",
       " (('RestaurantsGoodForGroups', 'True'), 7126),\n",
       " (('Caters', 'True'), 6497),\n",
       " (('OutdoorSeating', 'True'), 6082)]"
      ]
     },
     "execution_count": 20,
     "metadata": {},
     "output_type": "execute_result"
    }
   ],
   "source": [
    "#Food\n",
    "word_count_attributes_food=filtered_data_processing('Food')\n",
    "word_count_attributes_food[0:10]"
   ]
  },
  {
   "cell_type": "code",
   "execution_count": 21,
   "metadata": {},
   "outputs": [
    {
     "data": {
      "image/png": "[encoded data removed]",
      "text/plain": [
       "<Figure size 360x360 with 1 Axes>"
      ]
     },
     "metadata": {
      "needs_background": "light"
     },
     "output_type": "display_data"
    }
   ],
   "source": [
    "bar_graph(word_count_attributes_food)"
   ]
  },
  {
   "cell_type": "code",
   "execution_count": 22,
   "metadata": {},
   "outputs": [
    {
     "name": "stdout",
     "output_type": "stream",
     "text": [
      "21915\n"
     ]
    },
    {
     "data": {
      "text/plain": [
       "[(('BusinessAcceptsCreditCards', 'True'), 15550),\n",
       " (('BikeParking', 'True'), 11181),\n",
       " (('RestaurantsPriceRange2', '2'), 10271),\n",
       " (('lot', True), 7346),\n",
       " (('WheelchairAccessible', 'True'), 4591),\n",
       " (('street', True), 3268),\n",
       " (('RestaurantsPriceRange2', '3'), 2772),\n",
       " (('RestaurantsPriceRange2', '1'), 2642),\n",
       " (('ByAppointmentOnly', 'True'), 1818),\n",
       " (('DogsAllowed', 'True'), 1544)]"
      ]
     },
     "execution_count": 22,
     "metadata": {},
     "output_type": "execute_result"
    }
   ],
   "source": [
    "#Shopping\n",
    "word_count_attributes_shopping=filtered_data_processing('Shopping')\n",
    "word_count_attributes_shopping[0:10]"
   ]
  },
  {
   "cell_type": "code",
   "execution_count": 23,
   "metadata": {},
   "outputs": [
    {
     "data": {
      "image/png": "[encoded data removed]",
      "text/plain": [
       "<Figure size 360x360 with 1 Axes>"
      ]
     },
     "metadata": {
      "needs_background": "light"
     },
     "output_type": "display_data"
    }
   ],
   "source": [
    "bar_graph(word_count_attributes_shopping)"
   ]
  },
  {
   "cell_type": "code",
   "execution_count": 24,
   "metadata": {},
   "outputs": [
    {
     "name": "stdout",
     "output_type": "stream",
     "text": [
      "14675\n"
     ]
    },
    {
     "data": {
      "text/plain": [
       "[(('BusinessAcceptsCreditCards', 'True'), 10472),\n",
       " (('BikeParking', 'True'), 8728),\n",
       " (('RestaurantsPriceRange2', '2'), 8459),\n",
       " (('ByAppointmentOnly', 'True'), 6111),\n",
       " (('lot', True), 5693),\n",
       " (('WheelchairAccessible', 'True'), 4529),\n",
       " (('WiFi', \"u'free'\"), 3664),\n",
       " (('GoodForKids', 'True'), 3244),\n",
       " (('street', True), 2557),\n",
       " (('RestaurantsPriceRange2', '1'), 1755)]"
      ]
     },
     "execution_count": 24,
     "metadata": {},
     "output_type": "execute_result"
    }
   ],
   "source": [
    "#Beauty & Spas\n",
    "word_count_attributes_beauty=filtered_data_processing('Beauty & Spas')\n",
    "word_count_attributes_beauty[0:10]"
   ]
  },
  {
   "cell_type": "code",
   "execution_count": 25,
   "metadata": {},
   "outputs": [
    {
     "data": {
      "image/png": "[encoded data removed]",
      "text/plain": [
       "<Figure size 360x360 with 1 Axes>"
      ]
     },
     "metadata": {
      "needs_background": "light"
     },
     "output_type": "display_data"
    }
   ],
   "source": [
    "bar_graph(word_count_attributes_beauty)"
   ]
  },
  {
   "cell_type": "code",
   "execution_count": 26,
   "metadata": {},
   "outputs": [
    {
     "name": "stdout",
     "output_type": "stream",
     "text": [
      "13391\n"
     ]
    },
    {
     "data": {
      "text/plain": [
       "[(('BusinessAcceptsCreditCards', 'True'), 9388),\n",
       " (('ByAppointmentOnly', 'True'), 4828),\n",
       " (('No_attribute', 'None'), 2711),\n",
       " (('BikeParking', 'True'), 942),\n",
       " (('RestaurantsPriceRange2', '2'), 770),\n",
       " (('WheelchairAccessible', 'True'), 712),\n",
       " (('lot', True), 686),\n",
       " (('WiFi', \"u'free'\"), 263),\n",
       " (('DogsAllowed', 'True'), 242),\n",
       " (('RestaurantsPriceRange2', '3'), 214)]"
      ]
     },
     "execution_count": 26,
     "metadata": {},
     "output_type": "execute_result"
    }
   ],
   "source": [
    "#Home Services\n",
    "word_count_attributes_home=filtered_data_processing('Home Services')\n",
    "word_count_attributes_home[0:10]"
   ]
  },
  {
   "cell_type": "code",
   "execution_count": 27,
   "metadata": {},
   "outputs": [],
   "source": [
    "del word_count_attributes_home[2]"
   ]
  },
  {
   "cell_type": "code",
   "execution_count": 28,
   "metadata": {},
   "outputs": [
    {
     "data": {
      "image/png": "[encoded data removed]",
      "text/plain": [
       "<Figure size 360x360 with 1 Axes>"
      ]
     },
     "metadata": {
      "needs_background": "light"
     },
     "output_type": "display_data"
    }
   ],
   "source": [
    "bar_graph(word_count_attributes_home)"
   ]
  }
 ],
 "metadata": {
  "kernelspec": {
   "display_name": "Python 3",
   "language": "python",
   "name": "python3"
  },
  "language_info": {
   "codemirror_mode": {
    "name": "ipython",
    "version": 3
   },
   "file_extension": ".py",
   "mimetype": "text/x-python",
   "name": "python",
   "nbconvert_exporter": "python",
   "pygments_lexer": "ipython3",
   "version": "3.7.7"
  }
 },
 "nbformat": 4,
 "nbformat_minor": 4
}
