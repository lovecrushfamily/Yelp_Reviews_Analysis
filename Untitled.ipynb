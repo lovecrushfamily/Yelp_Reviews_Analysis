{
 "cells": [
  {
   "cell_type": "markdown",
   "id": "1bee3653-8bac-4ea4-888b-d5c2b01f0942",
   "metadata": {},
   "source": [
    "## Yelp Reviews Data Analysis"
   ]
  },
  {
   "cell_type": "markdown",
   "id": "ea2529a5-eaf7-46bc-adce-30c4fcb51b2b",
   "metadata": {},
   "source": [
    "## 1. Overall Project Objectives\n",
    "\n",
    "Yelp is an application to provide the platform for customers to write reviews and provide a star-rating. A research indicates that a one-star increase led to 59% increase in revenue of independent restaurants. Therefore, we see great potential of Yelp dataset as a valuable insights repository.\n",
    "\n",
    "The main purpose of our project is to conduct thorough analysis on 7 different cuisine types of restaurants which are Korean, Japanese, Chinese, Vietnamese,Thai, French and Italian, figure out what makes a good restaurant and what concerns customers, and then make recommendations of the future improvement and profit growth. Specifically, we will mainly analyze customers' reviews and figure out reasons why customers love or dislike the restaurant. For example, there may be great reviews primarily due to the friendly service, or negative reviews about high price. Meanwhile, we will also compare among those 7 different cuisine types and figure out differences from reviews and gain valuable insights to make customized recommendations to different types of restaurants."
   ]
  },
  {
   "cell_type": "markdown",
   "id": "44b66a92-e0f5-4779-aa77-6bb7ee12699e",
   "metadata": {},
   "source": [
    "## 2. Description of Data\n",
    "\n",
    "The Yelp dataset is downloaded from Yelp Reviews website. In total, there are 5,200,000 user reviews, information on 174,000 business. we will focus on two tables which are business table and review table. Attributes of business table are as following:\n",
    "\n",
    "* business_id: ID of the business \n",
    "* name: name of the business\n",
    "* neighborhood \n",
    "* address: address of the business\n",
    "* city: city of the business\n",
    "* state: state of the business\n",
    "* postal_code: postal code of the business\n",
    "* latitude: latitude of the business\n",
    "* longitude: longitude of the business\n",
    "* stars: average rating of the business\n",
    "* review_count: number of reviews received\n",
    "* is_open: 1 if the business is open, 0 therwise\n",
    "* categories: multiple categories of the business\n",
    "\n",
    "Attribues of review table are as following:\n",
    "* review_id: ID of the review\n",
    "* user_id: ID of the user\n",
    "* business_id: ID of the business\n",
    "* stars: ratings of the business\n",
    "* date: review date\n",
    "* text: review from the user\n",
    "* useful: number of users who vote a review as usefull\n",
    "* funny: number of users who vote a review as funny\n",
    "* cool: number of users who vote a review as cool\n"
   ]
  },
  {
   "cell_type": "markdown",
   "id": "763fb1ed-f9f2-4059-9aa8-ce604b085ed4",
   "metadata": {},
   "source": [
    "## 3. Direction of Analysis\n",
    "\n",
    "**Exploratory Data Analysis**\n",
    "\n",
    "* Count something\n",
    "* Vizualize something"
   ]
  },
  {
   "cell_type": "code",
   "execution_count": 1,
   "id": "378e02bf-59bd-46ad-89db-091f89d70417",
   "metadata": {},
   "outputs": [],
   "source": [
    "#spark.sparkContext\n",
    "#spark.stop()\n",
    "\n"
   ]
  },
  {
   "cell_type": "code",
   "execution_count": 2,
   "id": "15ed1449-0e24-46e7-ab0d-53008048f65d",
   "metadata": {},
   "outputs": [
    {
     "name": "stderr",
     "output_type": "stream",
     "text": [
      "25/10/23 15:01:16 WARN SparkSession: Using an existing Spark session; only runtime SQL configurations will take effect.\n"
     ]
    },
    {
     "data": {
      "text/html": [
       "\n",
       "            <div>\n",
       "                <p><b>SparkSession - hive</b></p>\n",
       "                \n",
       "        <div>\n",
       "            <p><b>SparkContext</b></p>\n",
       "\n",
       "            <p><a href=\"http://master:4040\">Spark UI</a></p>\n",
       "\n",
       "            <dl>\n",
       "              <dt>Version</dt>\n",
       "                <dd><code>v3.5.1</code></dd>\n",
       "              <dt>Master</dt>\n",
       "                <dd><code>spark://master:7077</code></dd>\n",
       "              <dt>AppName</dt>\n",
       "                <dd><code>PySparkShell</code></dd>\n",
       "            </dl>\n",
       "        </div>\n",
       "        \n",
       "            </div>\n",
       "        "
      ],
      "text/plain": [
       "<pyspark.sql.session.SparkSession at 0x7f2330be1940>"
      ]
     },
     "execution_count": 2,
     "metadata": {},
     "output_type": "execute_result"
    }
   ],
   "source": [
    "from pyspark.sql import SparkSession\n",
    "\n",
    "spark = SparkSession.builder.\\\n",
    "        appName(\"YelpDataAnalysis\").\\\n",
    "        master(\"spark://master:7077\").\\\n",
    "        getOrCreate()\n",
    "\n",
    "spark"
   ]
  },
  {
   "cell_type": "code",
   "execution_count": 2,
   "id": "90ffef54-309c-41b7-afbf-29d9ca4a6b1f",
   "metadata": {},
   "outputs": [],
   "source": [
    "#HARD RESET THE KERNEL\n",
    "#import os\n",
    "#os._exit(00)\n"
   ]
  },
  {
   "cell_type": "markdown",
   "id": "eeb171fc-bd11-4660-aa0f-3ff94a10a011",
   "metadata": {},
   "source": [
    "## 4. Coding Stage"
   ]
  },
  {
   "cell_type": "code",
   "execution_count": 3,
   "id": "f81dc4d4-7860-445d-b5c5-dff0ec453ddd",
   "metadata": {},
   "outputs": [],
   "source": [
    "import pandas as pd\n",
    "import numpy as np\n",
    "from collections import Counter\n",
    "import matplotlib.pyplot as plt\n",
    "import seaborn as sns\n",
    "from IPython.display import display\n",
    "pd.set_option('display.max_columns', None)   # show all columns\n",
    "pd.set_option('display.max_colwidth', None)  # don’t truncate text\n",
    "pd.set_option('display.width', 1000)### *Read Yelp Dataset*\n",
    "\n",
    "sns.set(style=\"whitegrid\")\n",
    "\n",
    "from pyspark.sql import functions as F\n",
    "from pyspark.sql import types as T\n",
    "\n",
    "\n",
    "#spark.conf.set(\"spark.sql.debug.maxToStringFields\", 2000)\n",
    "#spark.conf.set(\"spark.sql.shuffle.partitions\", \"200\")   # adjust for cluster cores\n",
    "#spark.conf.set(\"spark.sql.debug.maxToStringFields\", \"2000\")  # for printing big schemas\n",
    "#spark.conf.set(\"spark.executor.memory\", \"4g\")\n",
    "#spark.conf.set(\"spark.driver.memory\", \"4g\")\n"
   ]
  },
  {
   "cell_type": "code",
   "execution_count": 4,
   "id": "24045c32-97cb-4d74-b7c7-69215eae42a3",
   "metadata": {},
   "outputs": [
    {
     "name": "stderr",
     "output_type": "stream",
     "text": [
      "25/10/23 15:01:33 WARN SparkStringUtils: Truncated the string representation of a plan since it was too large. This behavior can be adjusted by setting 'spark.sql.debug.maxToStringFields'.\n",
      "                                                                                \r"
     ]
    }
   ],
   "source": [
    "\n",
    "df_business = spark.read.json(\"/yelp_review_dataset/yelp_academic_dataset_business.json\")\n",
    "df_user = spark.read.json(\"/yelp_review_dataset/yelp_academic_dataset_user.json\")\n",
    "df_tip = spark.read.json(\"/yelp_review_dataset/yelp_academic_dataset_tip.json\")\n",
    "df_review = spark.read.json(\"/yelp_review_dataset/yelp_academic_dataset_review.json\")\n",
    "df_checkin = spark.read.json(\"/yelp_review_dataset/yelp_academic_dataset_checkin.json\")\n"
   ]
  },
  {
   "cell_type": "markdown",
   "id": "21e8e3dd-9a72-4b96-9f0d-cfb08262c341",
   "metadata": {},
   "source": [
    "### Academic Business\n",
    "\n",
    "💡 Role:\n",
    "\n",
    "This file contains information about each business listed on Yelp: restaurants, salons, hotels, gyms, etc.\n",
    "Every other file connects to it via business_id.\n",
    "\n",
    "{\n",
    "  \"business_id\": \"1SWheh84yJXfytovILXOAQ\",                                **main_objects**\n",
    "  \"name\": \"The Range at Lake Norman\",\n",
    "  \"address\": \"10913 Bailey Rd\",\n",
    "  \"city\": \"Cornelius\",\n",
    "  \"state\": \"NC\",\n",
    "  \"postal_code\": \"28031\",\n",
    "  \"latitude\": 35.4627242,\n",
    "  \"longitude\": -80.8526119,\n",
    "  \"stars\": 4.0,\n",
    "  \"review_count\": 36,\n",
    "  \"is_open\": 1,\n",
    "  \"categories\": \"Active Life, Gun/Rifle Ranges, Guns & Ammo\",\n",
    "  \n",
    "  \"attributes\": {                                                           **nested oject -> analysis later**\n",
    "    \"BusinessAcceptsCreditCards\": \"True\",\n",
    "    \"WiFi\": \"free\"\n",
    "  },\n",
    "  \"hours\": {                                                                **nested oject -> analysis later**\n",
    "    \"Monday\": \"10:00-18:00\",\n",
    "    \"Tuesday\": \"10:00-18:00\"\n",
    "  }\n",
    "}"
   ]
  },
  {
   "cell_type": "code",
   "execution_count": 45,
   "id": "0086f9dd-1968-45f1-89fa-f1b1710210b4",
   "metadata": {},
   "outputs": [
    {
     "name": "stdout",
     "output_type": "stream",
     "text": [
      "+--------------------+--------------------+--------------------+-------------+-----+-----------+----------+------------+-----+------------+-------+--------------------+\n",
      "|         business_id|                name|             address|         city|state|postal_code|  latitude|   longitude|stars|review_count|is_open|          categories|\n",
      "+--------------------+--------------------+--------------------+-------------+-----+-----------+----------+------------+-----+------------+-------+--------------------+\n",
      "|Pns2l4eNsfO8kk83d...|Abby Rappoport, L...|1616 Chapala St, ...|Santa Barbara|   CA|      93101|34.4266787|-119.7111968|  5.0|           7|      0|Doctors, Traditio...|\n",
      "|mpf3x-BjTdTEA3yCZ...|       The UPS Store|87 Grasso Plaza S...|       Affton|   MO|      63123| 38.551126|  -90.335695|  3.0|          15|      1|Shipping Centers,...|\n",
      "|tUFrWirKiKi_TAnsV...|              Target|5255 E Broadway Blvd|       Tucson|   AZ|      85711| 32.223236| -110.880452|  3.5|          22|      0|Department Stores...|\n",
      "|MTSW4McQd7CbVtyjq...|  St Honore Pastries|         935 Race St| Philadelphia|   PA|      19107|39.9555052| -75.1555641|  4.0|          80|      1|Restaurants, Food...|\n",
      "|mWMc6_wTdE0EUBKIG...|Perkiomen Valley ...|       101 Walnut St|   Green Lane|   PA|      18054|40.3381827| -75.4716585|  4.5|          13|      1|Brewpubs, Breweri...|\n",
      "+--------------------+--------------------+--------------------+-------------+-----+-----------+----------+------------+-----+------------+-------+--------------------+\n",
      "only showing top 5 rows\n",
      "\n"
     ]
    },
    {
     "data": {
      "text/plain": [
       "['address',\n",
       " 'attributes',\n",
       " 'business_id',\n",
       " 'categories',\n",
       " 'city',\n",
       " 'hours',\n",
       " 'is_open',\n",
       " 'latitude',\n",
       " 'longitude',\n",
       " 'name',\n",
       " 'postal_code',\n",
       " 'review_count',\n",
       " 'stars',\n",
       " 'state',\n",
       " 'categories_array']"
      ]
     },
     "execution_count": 45,
     "metadata": {},
     "output_type": "execute_result"
    }
   ],
   "source": [
    "\n",
    "main_columns = [\"business_id\", \"name\" , \"address\", \"city\",\"state\", \"postal_code\", \"latitude\", \"longitude\", \"stars\", \"review_count\", \"is_open\", \"categories\"]\n",
    "sub_objects = [\"hours\", \"attributes\"]\n",
    "\n",
    "df_business.select(main_columns).show(5)\n",
    "df_business.columns\n",
    "\n"
   ]
  },
  {
   "cell_type": "markdown",
   "id": "308f5b5a-7e78-4eef-831a-cea7ad61cc3a",
   "metadata": {},
   "source": [
    "#### Academic Business Schema"
   ]
  },
  {
   "cell_type": "code",
   "execution_count": 44,
   "id": "005ef284-54b8-4045-910e-f8cc83cacb0b",
   "metadata": {},
   "outputs": [
    {
     "name": "stdout",
     "output_type": "stream",
     "text": [
      "Total businesses: 150346 \n",
      "\n",
      "root\n",
      " |-- address: string (nullable = true)\n",
      " |-- attributes: struct (nullable = true)\n",
      " |    |-- AcceptsInsurance: string (nullable = true)\n",
      " |    |-- AgesAllowed: string (nullable = true)\n",
      " |    |-- Alcohol: string (nullable = true)\n",
      " |    |-- Ambience: string (nullable = true)\n",
      " |    |-- BYOB: string (nullable = true)\n",
      " |    |-- BYOBCorkage: string (nullable = true)\n",
      " |    |-- BestNights: string (nullable = true)\n",
      " |    |-- BikeParking: string (nullable = true)\n",
      " |    |-- BusinessAcceptsBitcoin: string (nullable = true)\n",
      " |    |-- BusinessAcceptsCreditCards: string (nullable = true)\n",
      " |    |-- BusinessParking: string (nullable = true)\n",
      " |    |-- ByAppointmentOnly: string (nullable = true)\n",
      " |    |-- Caters: string (nullable = true)\n",
      " |    |-- CoatCheck: string (nullable = true)\n",
      " |    |-- Corkage: string (nullable = true)\n",
      " |    |-- DietaryRestrictions: string (nullable = true)\n",
      " |    |-- DogsAllowed: string (nullable = true)\n",
      " |    |-- DriveThru: string (nullable = true)\n",
      " |    |-- GoodForDancing: string (nullable = true)\n",
      " |    |-- GoodForKids: string (nullable = true)\n",
      " |    |-- GoodForMeal: string (nullable = true)\n",
      " |    |-- HairSpecializesIn: string (nullable = true)\n",
      " |    |-- HappyHour: string (nullable = true)\n",
      " |    |-- HasTV: string (nullable = true)\n",
      " |    |-- Music: string (nullable = true)\n",
      " |    |-- NoiseLevel: string (nullable = true)\n",
      " |    |-- Open24Hours: string (nullable = true)\n",
      " |    |-- OutdoorSeating: string (nullable = true)\n",
      " |    |-- RestaurantsAttire: string (nullable = true)\n",
      " |    |-- RestaurantsCounterService: string (nullable = true)\n",
      " |    |-- RestaurantsDelivery: string (nullable = true)\n",
      " |    |-- RestaurantsGoodForGroups: string (nullable = true)\n",
      " |    |-- RestaurantsPriceRange2: string (nullable = true)\n",
      " |    |-- RestaurantsReservations: string (nullable = true)\n",
      " |    |-- RestaurantsTableService: string (nullable = true)\n",
      " |    |-- RestaurantsTakeOut: string (nullable = true)\n",
      " |    |-- Smoking: string (nullable = true)\n",
      " |    |-- WheelchairAccessible: string (nullable = true)\n",
      " |    |-- WiFi: string (nullable = true)\n",
      " |-- business_id: string (nullable = true)\n",
      " |-- categories: string (nullable = true)\n",
      " |-- city: string (nullable = true)\n",
      " |-- hours: struct (nullable = true)\n",
      " |    |-- Friday: string (nullable = true)\n",
      " |    |-- Monday: string (nullable = true)\n",
      " |    |-- Saturday: string (nullable = true)\n",
      " |    |-- Sunday: string (nullable = true)\n",
      " |    |-- Thursday: string (nullable = true)\n",
      " |    |-- Tuesday: string (nullable = true)\n",
      " |    |-- Wednesday: string (nullable = true)\n",
      " |-- is_open: long (nullable = true)\n",
      " |-- latitude: double (nullable = true)\n",
      " |-- longitude: double (nullable = true)\n",
      " |-- name: string (nullable = true)\n",
      " |-- postal_code: string (nullable = true)\n",
      " |-- review_count: long (nullable = true)\n",
      " |-- stars: double (nullable = true)\n",
      " |-- state: string (nullable = true)\n",
      " |-- categories_array: array (nullable = true)\n",
      " |    |-- element: string (containsNull = false)\n",
      "\n"
     ]
    },
    {
     "name": "stderr",
     "output_type": "stream",
     "text": [
      "                                                                                \r"
     ]
    },
    {
     "data": {
      "text/plain": [
       "['address',\n",
       " 'attributes',\n",
       " 'business_id',\n",
       " 'categories',\n",
       " 'city',\n",
       " 'hours',\n",
       " 'is_open',\n",
       " 'latitude',\n",
       " 'longitude',\n",
       " 'name',\n",
       " 'postal_code',\n",
       " 'review_count',\n",
       " 'stars',\n",
       " 'state',\n",
       " 'categories_array']"
      ]
     },
     "execution_count": 44,
     "metadata": {},
     "output_type": "execute_result"
    }
   ],
   "source": [
    "print(\"Total businesses:\", df_business.count(), '\\n')\n",
    "df_business.printSchema()\n",
    "\n"
   ]
  },
  {
   "cell_type": "markdown",
   "id": "7234c1e2-dae6-4ce2-a247-2c8d6f55312c",
   "metadata": {},
   "source": [
    "#### Basic numeric summary\n"
   ]
  },
  {
   "cell_type": "code",
   "execution_count": 31,
   "id": "7513f9a9-ffdf-4c0f-9002-0b08d88c757b",
   "metadata": {},
   "outputs": [
    {
     "name": "stderr",
     "output_type": "stream",
     "text": [
      "[Stage 82:==============>                                           (1 + 3) / 4]\r"
     ]
    },
    {
     "name": "stdout",
     "output_type": "stream",
     "text": [
      "+-------+--------------------+--------------------+-----------------+-----------+------+------------------+-----------------+------------------+------------------+------------------+------------------+--------------------+\n",
      "|summary|         business_id|                name|          address|       city| state|       postal_code|         latitude|         longitude|             stars|      review_count|           is_open|          categories|\n",
      "+-------+--------------------+--------------------+-----------------+-----------+------+------------------+-----------------+------------------+------------------+------------------+------------------+--------------------+\n",
      "|  count|              150346|              150346|           150346|     150346|150346|            150346|           150346|            150346|            150346|            150346|            150346|              150243|\n",
      "|   mean|                NULL|              1252.4|7369.333333333333|       NULL|  NULL| 45177.81755426108|36.67115006414555|-89.35733948971415|3.5967235576603303| 44.86656113232144|0.7961502135075094|                NULL|\n",
      "| stddev|                NULL|   811.1275005954502|8738.777641447725|       NULL|  NULL|26395.882085856545|5.872758917014038|14.918501679930618|0.9744207509201364|121.12013570117061|0.4028599390900641|                NULL|\n",
      "|    min|---kPU91CF4Lq2-Wl...|        Grow Academy|                 |AB Edmonton|    AB|                  |        27.555127|       -120.095137|               1.0|                 5|                 0|3D Printing, Loca...|\n",
      "|    max|zzyx5x0Z7xXWWvWnZ...|​​Transformationa...|  ​185 E State St|    ​Lithia|   XMS|           T9E 0V3|       53.6791969|    -73.2004570502|               5.0|              7568|                 1|Zoos, Tours, Arts...|\n",
      "+-------+--------------------+--------------------+-----------------+-----------+------+------------------+-----------------+------------------+------------------+------------------+------------------+--------------------+\n",
      "\n"
     ]
    },
    {
     "name": "stderr",
     "output_type": "stream",
     "text": [
      "                                                                                \r"
     ]
    }
   ],
   "source": [
    "df_business.select(main_columns).describe().show()"
   ]
  },
  {
   "cell_type": "markdown",
   "id": "8eed3b16-b615-4a99-b591-1a819dd5194b",
   "metadata": {},
   "source": [
    "#### Total unique businesses\n"
   ]
  },
  {
   "cell_type": "code",
   "execution_count": 32,
   "id": "e23d70e2-3e57-4da1-811a-b4764491dd48",
   "metadata": {},
   "outputs": [
    {
     "name": "stdout",
     "output_type": "stream",
     "text": [
      "Total unique businesses: 150,346\n"
     ]
    }
   ],
   "source": [
    "total_businesses = df_business.select(\"business_id\").distinct().count()\n",
    "print(f\"Total unique businesses: {total_businesses:,}\")"
   ]
  },
  {
   "cell_type": "markdown",
   "id": "9eec5ce4-64c3-4abf-8621-62ad6b59eff3",
   "metadata": {},
   "source": [
    "- *Each record in this bussiness dataframe represents a unique business in real life*"
   ]
  },
  {
   "cell_type": "markdown",
   "id": "8ab5ea0b-a9bd-44f6-8482-6698744257e2",
   "metadata": {},
   "source": [
    "#### Top 10 businesses by city"
   ]
  },
  {
   "cell_type": "code",
   "execution_count": 28,
   "id": "879d14bc-b2d4-46b9-bf36-041846fe950d",
   "metadata": {},
   "outputs": [
    {
     "name": "stdout",
     "output_type": "stream",
     "text": [
      "+-------------+--------------+\n",
      "|city         |num_businesses|\n",
      "+-------------+--------------+\n",
      "|Philadelphia |14569         |\n",
      "|Tucson       |9250          |\n",
      "|Tampa        |9050          |\n",
      "|Indianapolis |7540          |\n",
      "|Nashville    |6971          |\n",
      "|New Orleans  |6209          |\n",
      "|Reno         |5935          |\n",
      "|Edmonton     |5054          |\n",
      "|Saint Louis  |4827          |\n",
      "|Santa Barbara|3829          |\n",
      "+-------------+--------------+\n",
      "only showing top 10 rows\n",
      "\n"
     ]
    }
   ],
   "source": [
    "city_counts = (\n",
    "    df_business.groupBy(\"city\")\n",
    "    .agg(F.countDistinct(\"business_id\").alias(\"num_businesses\"))\n",
    "    .orderBy(F.desc(\"num_businesses\"))\n",
    ")\n",
    "city_counts.show(10, truncate=False)\n"
   ]
  },
  {
   "cell_type": "markdown",
   "id": "1d368c57-e2ee-4544-b3d4-7feb97a1d9be",
   "metadata": {},
   "source": [
    "#### Top 10 businesses by state\n"
   ]
  },
  {
   "cell_type": "code",
   "execution_count": 25,
   "id": "816d40a0-d0b3-4684-9a73-0befd9faf40c",
   "metadata": {},
   "outputs": [
    {
     "name": "stdout",
     "output_type": "stream",
     "text": [
      "+-----+--------------+\n",
      "|state|num_businesses|\n",
      "+-----+--------------+\n",
      "|PA   |34039         |\n",
      "|FL   |26330         |\n",
      "|TN   |12056         |\n",
      "|IN   |11247         |\n",
      "|MO   |10913         |\n",
      "|LA   |9924          |\n",
      "|AZ   |9912          |\n",
      "|NJ   |8536          |\n",
      "|NV   |7715          |\n",
      "|AB   |5573          |\n",
      "+-----+--------------+\n",
      "only showing top 10 rows\n",
      "\n"
     ]
    }
   ],
   "source": [
    "state_counts = (\n",
    "    df_business.groupBy(\"state\")\n",
    "    .agg(F.countDistinct(\"business_id\").alias(\"num_businesses\"))\n",
    "    .orderBy(F.desc(\"num_businesses\"))\n",
    ")\n",
    "state_counts.show(10, truncate=False)"
   ]
  },
  {
   "cell_type": "code",
   "execution_count": null,
   "id": "c805abff-336c-40d0-b6d4-a0f617a6e5b7",
   "metadata": {},
   "outputs": [],
   "source": []
  },
  {
   "cell_type": "markdown",
   "id": "1485a84c-2741-48db-87de-8de36155c81a",
   "metadata": {},
   "source": [
    "#### Top cities & categories\n"
   ]
  },
  {
   "cell_type": "code",
   "execution_count": 29,
   "id": "8f78645e-c47f-40cb-aa48-a219eafad306",
   "metadata": {},
   "outputs": [
    {
     "name": "stderr",
     "output_type": "stream",
     "text": [
      "                                                                                \r"
     ]
    },
    {
     "name": "stdout",
     "output_type": "stream",
     "text": [
      "+-------------+-----+\n",
      "|         city|count|\n",
      "+-------------+-----+\n",
      "| Philadelphia|14569|\n",
      "|       Tucson| 9250|\n",
      "|        Tampa| 9050|\n",
      "| Indianapolis| 7540|\n",
      "|    Nashville| 6971|\n",
      "|  New Orleans| 6209|\n",
      "|         Reno| 5935|\n",
      "|     Edmonton| 5054|\n",
      "|  Saint Louis| 4827|\n",
      "|Santa Barbara| 3829|\n",
      "+-------------+-----+\n",
      "only showing top 10 rows\n",
      "\n",
      "+-----+-----+\n",
      "|state|count|\n",
      "+-----+-----+\n",
      "|   PA|34039|\n",
      "|   FL|26330|\n",
      "|   TN|12056|\n",
      "|   IN|11247|\n",
      "|   MO|10913|\n",
      "|   LA| 9924|\n",
      "|   AZ| 9912|\n",
      "|   NJ| 8536|\n",
      "|   NV| 7715|\n",
      "|   AB| 5573|\n",
      "+-----+-----+\n",
      "only showing top 10 rows\n",
      "\n"
     ]
    }
   ],
   "source": [
    "df_business.groupBy(\"city\").count().orderBy(F.desc(\"count\")).show(10)\n",
    "df_business.groupBy(\"state\").count().orderBy(F.desc(\"count\")).show(10)"
   ]
  },
  {
   "cell_type": "markdown",
   "id": "c6ed9b09-1cc1-41cb-bea2-2b4d09e5c350",
   "metadata": {},
   "source": [
    "#### Top categories (explode categories string into array)"
   ]
  },
  {
   "cell_type": "code",
   "execution_count": 30,
   "id": "8e241aba-57b3-4be3-bc4b-a4377abc39ba",
   "metadata": {},
   "outputs": [
    {
     "name": "stderr",
     "output_type": "stream",
     "text": [
      "[Stage 79:===========================================>              (3 + 1) / 4]\r"
     ]
    },
    {
     "name": "stdout",
     "output_type": "stream",
     "text": [
      "+-------------------------+-----+\n",
      "|category                 |count|\n",
      "+-------------------------+-----+\n",
      "|Restaurants              |52268|\n",
      "|Food                     |27781|\n",
      "|Shopping                 |24395|\n",
      "|Home Services            |14356|\n",
      "|Beauty & Spas            |14292|\n",
      "|Nightlife                |12281|\n",
      "|Health & Medical         |11890|\n",
      "|Local Services           |11198|\n",
      "|Bars                     |11065|\n",
      "|Automotive               |10773|\n",
      "|Event Planning & Services|9895 |\n",
      "|Sandwiches               |8366 |\n",
      "|American (Traditional)   |8139 |\n",
      "|Active Life              |7687 |\n",
      "|Pizza                    |7093 |\n",
      "+-------------------------+-----+\n",
      "only showing top 15 rows\n",
      "\n"
     ]
    },
    {
     "name": "stderr",
     "output_type": "stream",
     "text": [
      "                                                                                \r"
     ]
    }
   ],
   "source": [
    "\n",
    "df_business = df_business.withColumn(\"categories_array\", F.split(F.col(\"categories\"), \",\\\\s*\"))\n",
    "df_business.select(F.explode(F.col(\"categories_array\")).alias(\"category\")) \\\n",
    "    .groupBy(\"category\").count().orderBy(F.desc(\"count\")).show(15, truncate=False)"
   ]
  },
  {
   "cell_type": "markdown",
   "id": "07f05855-5f1e-47c1-9c27-def74628698b",
   "metadata": {},
   "source": [
    "#### [?] How many businesses are currently open?\n",
    "\n",
    "**📖 Insight:**\n",
    "\n",
    "- *Understand how many businesses are still operating — an indicator of data freshness and business survival rate.*\n",
    "\n",
    "- *If most businesses have is_open = 1, it means Yelp’s dataset is still relevant and updated.*"
   ]
  },
  {
   "cell_type": "code",
   "execution_count": 46,
   "id": "81386348-c073-4c0d-8e55-550d48bb5cb0",
   "metadata": {},
   "outputs": [
    {
     "name": "stderr",
     "output_type": "stream",
     "text": [
      "[Stage 127:============================>                            (2 + 2) / 4]\r"
     ]
    },
    {
     "name": "stdout",
     "output_type": "stream",
     "text": [
      "+-------+------+\n",
      "|is_open| count|\n",
      "+-------+------+\n",
      "|      0| 30648|\n",
      "|      1|119698|\n",
      "+-------+------+\n",
      "\n"
     ]
    },
    {
     "name": "stderr",
     "output_type": "stream",
     "text": [
      "                                                                                \r"
     ]
    }
   ],
   "source": [
    "from pyspark.sql import functions as F\n",
    "\n",
    "df_business.groupBy(\"is_open\").count().show()"
   ]
  },
  {
   "cell_type": "markdown",
   "id": "cd094bc8-6d6c-4d1c-b095-803f00de9ad8",
   "metadata": {},
   "source": [
    "#### [?] What are the average stars and review counts for open businesses?\n",
    "\n",
    "**Purpose:**\n",
    "- *Compare customer satisfaction among active businesses.*\n",
    "\n",
    "**Insight:**\n",
    "- *Open businesses often have higher ratings because poorly rated ones tend to close — a natural selection effect.*"
   ]
  },
  {
   "cell_type": "code",
   "execution_count": 47,
   "id": "59141ca0-7f11-46ea-adfa-1c1d1f066d94",
   "metadata": {},
   "outputs": [
    {
     "name": "stderr",
     "output_type": "stream",
     "text": [
      "[Stage 130:============================>                            (2 + 2) / 4]\r"
     ]
    },
    {
     "name": "stdout",
     "output_type": "stream",
     "text": [
      "+-----------------+-----------------+\n",
      "|   avg_stars_open| avg_reviews_open|\n",
      "+-----------------+-----------------+\n",
      "|3.618907584086618|46.68396297348327|\n",
      "+-----------------+-----------------+\n",
      "\n"
     ]
    },
    {
     "name": "stderr",
     "output_type": "stream",
     "text": [
      "                                                                                \r"
     ]
    }
   ],
   "source": [
    "df_business.filter(F.col(\"is_open\") == 1).select(\n",
    "    F.avg(\"stars\").alias(\"avg_stars_open\"),\n",
    "    F.avg(\"review_count\").alias(\"avg_reviews_open\")\n",
    ").show()\n"
   ]
  },
  {
   "cell_type": "markdown",
   "id": "dfe02283-9638-485a-8010-573ecbc90bac",
   "metadata": {},
   "source": [
    "#### [?] Which cities have the highest number of businesses?\n",
    "\n",
    "**Purpose:**\n",
    "- *Identify major business hubs and Yelp coverage areas.*\n",
    "\n",
    "**Insight:**\n",
    "- *Cities like Las Vegas, Phoenix, Toronto, and Charlotte usually dominate — showing where Yelp is most active.*"
   ]
  },
  {
   "cell_type": "code",
   "execution_count": 49,
   "id": "331ff094-867e-48a5-93ae-42ee12ff76d0",
   "metadata": {},
   "outputs": [
    {
     "name": "stdout",
     "output_type": "stream",
     "text": [
      "+----------------+--------------+\n",
      "|city            |num_businesses|\n",
      "+----------------+--------------+\n",
      "|Philadelphia    |14569         |\n",
      "|Tucson          |9250          |\n",
      "|Tampa           |9050          |\n",
      "|Indianapolis    |7540          |\n",
      "|Nashville       |6971          |\n",
      "|New Orleans     |6209          |\n",
      "|Reno            |5935          |\n",
      "|Edmonton        |5054          |\n",
      "|Saint Louis     |4827          |\n",
      "|Santa Barbara   |3829          |\n",
      "|Boise           |2937          |\n",
      "|Clearwater      |2221          |\n",
      "|Saint Petersburg|1663          |\n",
      "|Metairie        |1643          |\n",
      "|Sparks          |1624          |\n",
      "+----------------+--------------+\n",
      "only showing top 15 rows\n",
      "\n"
     ]
    }
   ],
   "source": [
    "df_business.groupBy(\"city\")\\\n",
    "    .agg(F.count(\"business_id\").alias(\"num_businesses\"))\\\n",
    "    .orderBy(F.desc(\"num_businesses\"))\\\n",
    "    .show(15, truncate=False)\n"
   ]
  },
  {
   "cell_type": "markdown",
   "id": "37f07913-fdc6-4ee7-8728-7d948b2a989e",
   "metadata": {},
   "source": [
    "#### [?] What are the top 10 most common business categories?\n",
    "\n",
    "**Purpose:**\n",
    "\n",
    "- *Discover which business types dominate Yelp.*\n",
    "\n",
    "**Insight:**\n",
    "- *Expect to see “Restaurants”, “Shopping”, and “Beauty & Spas” — gives a macro-view of Yelp’s domain coverage.*"
   ]
  },
  {
   "cell_type": "code",
   "execution_count": 55,
   "id": "fb6cba01-28fa-4062-b918-d1d374617265",
   "metadata": {},
   "outputs": [
    {
     "name": "stderr",
     "output_type": "stream",
     "text": [
      "[Stage 143:==============>                                          (1 + 3) / 4]\r"
     ]
    },
    {
     "name": "stdout",
     "output_type": "stream",
     "text": [
      "+-------------------------+--------------+\n",
      "|category                 |num_businesses|\n",
      "+-------------------------+--------------+\n",
      "|Restaurants              |52268         |\n",
      "|Food                     |27781         |\n",
      "|Shopping                 |24395         |\n",
      "|Home Services            |14356         |\n",
      "|Beauty & Spas            |14292         |\n",
      "|Nightlife                |12281         |\n",
      "|Health & Medical         |11890         |\n",
      "|Local Services           |11198         |\n",
      "|Bars                     |11065         |\n",
      "|Automotive               |10773         |\n",
      "|Event Planning & Services|9895          |\n",
      "|Sandwiches               |8366          |\n",
      "|American (Traditional)   |8139          |\n",
      "|Active Life              |7687          |\n",
      "|Pizza                    |7093          |\n",
      "+-------------------------+--------------+\n",
      "only showing top 15 rows\n",
      "\n"
     ]
    },
    {
     "name": "stderr",
     "output_type": "stream",
     "text": [
      "                                                                                \r"
     ]
    }
   ],
   "source": [
    "df_exploded = df_business.withColumn(\"category\", F.explode(F.split(F.col(\"categories\"), \",\\\\s*\")))\n",
    "\n",
    "df_exploded.groupBy(\"category\")\\\n",
    "    .agg(F.count(\"business_id\").alias(\"num_businesses\"))\\\n",
    "    .orderBy(F.desc(\"num_businesses\"))\\\n",
    "    .show(15, truncate=False)\n"
   ]
  },
  {
   "cell_type": "markdown",
   "id": "f786a7aa-8b4f-47ed-acd3-90e25354ea72",
   "metadata": {},
   "source": [
    "- *Each business has register so many kind of fields. so it's a common case*"
   ]
  },
  {
   "cell_type": "code",
   "execution_count": 59,
   "id": "7e7a9eaa-7bd2-4bee-8f07-f4feed45b852",
   "metadata": {},
   "outputs": [
    {
     "data": {
      "text/html": [
       "<div>\n",
       "<style scoped>\n",
       "    .dataframe tbody tr th:only-of-type {\n",
       "        vertical-align: middle;\n",
       "    }\n",
       "\n",
       "    .dataframe tbody tr th {\n",
       "        vertical-align: top;\n",
       "    }\n",
       "\n",
       "    .dataframe thead th {\n",
       "        text-align: right;\n",
       "    }\n",
       "</style>\n",
       "<table border=\"1\" class=\"dataframe\">\n",
       "  <thead>\n",
       "    <tr style=\"text-align: right;\">\n",
       "      <th></th>\n",
       "      <th>categories</th>\n",
       "    </tr>\n",
       "  </thead>\n",
       "  <tbody>\n",
       "    <tr>\n",
       "      <th>0</th>\n",
       "      <td>Doctors, Traditional Chinese Medicine, Naturopathic/Holistic, Acupuncture, Health &amp; Medical, Nutritionists</td>\n",
       "    </tr>\n",
       "  </tbody>\n",
       "</table>\n",
       "</div>"
      ],
      "text/plain": [
       "                                                                                                   categories\n",
       "0  Doctors, Traditional Chinese Medicine, Naturopathic/Holistic, Acupuncture, Health & Medical, Nutritionists"
      ]
     },
     "execution_count": 59,
     "metadata": {},
     "output_type": "execute_result"
    }
   ],
   "source": [
    "df_business.select(\"categories\").limit(1).toPandas()"
   ]
  },
  {
   "cell_type": "code",
   "execution_count": 60,
   "id": "93130d5c-fad6-4ae7-a0df-d74cf00575f1",
   "metadata": {},
   "outputs": [],
   "source": [
    "#Analyze all kind of categories.\n",
    "\n",
    "How many unique category out there?"
   ]
  },
  {
   "cell_type": "markdown",
   "id": "6c233734-db6c-44e8-aa88-d34dcec264cb",
   "metadata": {},
   "source": [
    "#### [?] What is the relationship between review count and rating?\n",
    "\n",
    "**Purpose**\n",
    "- *Check whether highly rated businesses also have more reviews.*\n",
    "\n",
    "**Insight**\n",
    "- *Businesses with many reviews tend to have more stable ratings — fewer extremes due to averaging effects.*"
   ]
  },
  {
   "cell_type": "code",
   "execution_count": 5,
   "id": "4ed4e530-8416-4bb5-926d-c7d0f016fb98",
   "metadata": {},
   "outputs": [
    {
     "name": "stderr",
     "output_type": "stream",
     "text": [
      "                                                                                \r"
     ]
    },
    {
     "data": {
      "image/png": "[encoded data removed]",
      "text/plain": [
       "<Figure size 640x480 with 1 Axes>"
      ]
     },
     "metadata": {},
     "output_type": "display_data"
    }
   ],
   "source": [
    "sample_df = df_business.select(\"stars\", \"review_count\").sample(False, 0.01, 42).toPandas()\n",
    "\n",
    "import seaborn as sns\n",
    "import matplotlib.pyplot as plt\n",
    "\n",
    "sns.scatterplot(data=sample_df, x=\"review_count\", y=\"stars\", alpha=0.5)\n",
    "plt.xlim(0, 500)\n",
    "plt.title(\"Relationship between Review Count and Star Rating\")\n",
    "plt.show()\n"
   ]
  },
  {
   "cell_type": "markdown",
   "id": "948af056-1a73-4559-95d6-30ebb3ec658d",
   "metadata": {},
   "source": [
    "#### Does geography (latitude/longitude) correlate with ratings?\n",
    "\n",
    "**Purpose**:\n",
    "\n",
    "- *Visualize geographical distribution of ratings — are good businesses clustered in certain areas?*\n",
    "\n",
    "**Insight**:\n",
    "- *You might notice “hot spots” where businesses have consistently high ratings — often urban centers or tourist zones.*"
   ]
  },
  {
   "cell_type": "code",
   "execution_count": 6,
   "id": "d43e413c-12fb-4d67-9a09-b474c249af94",
   "metadata": {},
   "outputs": [
    {
     "name": "stderr",
     "output_type": "stream",
     "text": [
      "                                                                                \r"
     ]
    },
    {
     "data": {
      "image/png": "[encoded data removed]",
      "text/plain": [
       "<Figure size 800x600 with 1 Axes>"
      ]
     },
     "metadata": {},
     "output_type": "display_data"
    }
   ],
   "source": [
    "geo_sample = df_business.select(\"latitude\", \"longitude\", \"stars\")\\\n",
    "    .dropna().sample(False, 0.002, 42).toPandas()\n",
    "\n",
    "plt.figure(figsize=(8,6))\n",
    "sns.scatterplot(data=geo_sample, x=\"longitude\", y=\"latitude\", hue=\"stars\", palette=\"coolwarm\", s=20)\n",
    "plt.title(\"Geographical Spread of Businesses by Star Rating\")\n",
    "plt.show()\n"
   ]
  },
  {
   "cell_type": "markdown",
   "id": "2468a0cb-aa25-41db-8772-2f14e509be46",
   "metadata": {},
   "source": [
    "#### Which cities have the highest average ratings (only for cities with >100 businesses)?\n",
    "\n",
    "Purpose:\n",
    "\n",
    "Identify top-performing cities in terms of customer satisfaction.\n",
    "\n",
    "Insight:\n",
    "Cities with high average stars reflect strong service culture — potentially linked to economic and cultural patterns."
   ]
  },
  {
   "cell_type": "code",
   "execution_count": 7,
   "id": "a43582bd-2690-4f01-8596-6042ee5a0434",
   "metadata": {},
   "outputs": [
    {
     "name": "stderr",
     "output_type": "stream",
     "text": [
      "[Stage 7:============================================>              (3 + 1) / 4]\r"
     ]
    },
    {
     "name": "stdout",
     "output_type": "stream",
     "text": [
      "+--------------+--------------+------------------+\n",
      "|city          |num_businesses|avg_stars         |\n",
      "+--------------+--------------+------------------+\n",
      "|Safety Harbor |139           |4.129496402877698 |\n",
      "|Santa Barbara |3829          |4.05144946461217  |\n",
      "|Carpinteria   |298           |4.016778523489933 |\n",
      "|Gulfport      |115           |4.0               |\n",
      "|Lambertville  |124           |3.9838709677419355|\n",
      "|Webster Groves|111           |3.936936936936937 |\n",
      "|Tampa Bay     |141           |3.9361702127659575|\n",
      "|Collingswood  |169           |3.92603550295858  |\n",
      "|Eagle         |289           |3.916955017301038 |\n",
      "|Narberth      |113           |3.911504424778761 |\n",
      "|Dunedin       |490           |3.909183673469388 |\n",
      "|Elkins Park   |111           |3.9054054054054053|\n",
      "|Garden City   |158           |3.8544303797468356|\n",
      "|Madeira Beach |165           |3.8393939393939394|\n",
      "|Zionsville    |234           |3.8290598290598292|\n",
      "+--------------+--------------+------------------+\n",
      "only showing top 15 rows\n",
      "\n"
     ]
    },
    {
     "name": "stderr",
     "output_type": "stream",
     "text": [
      "                                                                                \r"
     ]
    }
   ],
   "source": [
    "city_avg = (\n",
    "    df_business.groupBy(\"city\")\n",
    "    .agg(\n",
    "        F.count(\"business_id\").alias(\"num_businesses\"),\n",
    "        F.avg(\"stars\").alias(\"avg_stars\")\n",
    "    )\n",
    "    .filter(F.col(\"num_businesses\") > 100)\n",
    "    .orderBy(F.desc(\"avg_stars\"))\n",
    ")\n",
    "\n",
    "city_avg.show(15, truncate=False)\n"
   ]
  },
  {
   "cell_type": "markdown",
   "id": "6c8bf318-1cfe-45fe-966c-26f7708cf22a",
   "metadata": {},
   "source": [
    "#### Which categories have the highest survival rate (open_rate)?\n",
    "\n",
    "Purpose:\n",
    "\n",
    "Evaluate long-term sustainability by category — which industries stay open the longest.\n",
    "\n",
    "Insight:\n",
    "Categories with high open rates (e.g., healthcare, food chains) indicate resilient industries with steady demand."
   ]
  },
  {
   "cell_type": "code",
   "execution_count": 8,
   "id": "1bf3f162-744c-458d-9c29-4c3ae469ca5b",
   "metadata": {},
   "outputs": [
    {
     "ename": "NameError",
     "evalue": "name 'df_exploded' is not defined",
     "output_type": "error",
     "traceback": [
      "\u001b[0;31m---------------------------------------------------------------------------\u001b[0m",
      "\u001b[0;31mNameError\u001b[0m                                 Traceback (most recent call last)",
      "Cell \u001b[0;32mIn[8], line 1\u001b[0m\n\u001b[0;32m----> 1\u001b[0m \u001b[43mdf_exploded\u001b[49m\u001b[38;5;241m.\u001b[39mgroupBy(\u001b[38;5;124m\"\u001b[39m\u001b[38;5;124mcategory\u001b[39m\u001b[38;5;124m\"\u001b[39m)\\\n\u001b[1;32m      2\u001b[0m     \u001b[38;5;241m.\u001b[39magg(\n\u001b[1;32m      3\u001b[0m         F\u001b[38;5;241m.\u001b[39mcount(\u001b[38;5;124m\"\u001b[39m\u001b[38;5;124mbusiness_id\u001b[39m\u001b[38;5;124m\"\u001b[39m)\u001b[38;5;241m.\u001b[39malias(\u001b[38;5;124m\"\u001b[39m\u001b[38;5;124mtotal\u001b[39m\u001b[38;5;124m\"\u001b[39m),\n\u001b[1;32m      4\u001b[0m         F\u001b[38;5;241m.\u001b[39msum(F\u001b[38;5;241m.\u001b[39mwhen(F\u001b[38;5;241m.\u001b[39mcol(\u001b[38;5;124m\"\u001b[39m\u001b[38;5;124mis_open\u001b[39m\u001b[38;5;124m\"\u001b[39m) \u001b[38;5;241m==\u001b[39m \u001b[38;5;241m1\u001b[39m, \u001b[38;5;241m1\u001b[39m)\u001b[38;5;241m.\u001b[39motherwise(\u001b[38;5;241m0\u001b[39m))\u001b[38;5;241m.\u001b[39malias(\u001b[38;5;124m\"\u001b[39m\u001b[38;5;124mopen_count\u001b[39m\u001b[38;5;124m\"\u001b[39m)\n\u001b[1;32m      5\u001b[0m     )\\\n\u001b[1;32m      6\u001b[0m     \u001b[38;5;241m.\u001b[39mwithColumn(\u001b[38;5;124m\"\u001b[39m\u001b[38;5;124mopen_rate\u001b[39m\u001b[38;5;124m\"\u001b[39m, (F\u001b[38;5;241m.\u001b[39mcol(\u001b[38;5;124m\"\u001b[39m\u001b[38;5;124mopen_count\u001b[39m\u001b[38;5;124m\"\u001b[39m) \u001b[38;5;241m/\u001b[39m F\u001b[38;5;241m.\u001b[39mcol(\u001b[38;5;124m\"\u001b[39m\u001b[38;5;124mtotal\u001b[39m\u001b[38;5;124m\"\u001b[39m)))\\\n\u001b[1;32m      7\u001b[0m     \u001b[38;5;241m.\u001b[39mfilter(F\u001b[38;5;241m.\u001b[39mcol(\u001b[38;5;124m\"\u001b[39m\u001b[38;5;124mtotal\u001b[39m\u001b[38;5;124m\"\u001b[39m) \u001b[38;5;241m>\u001b[39m \u001b[38;5;241m50\u001b[39m)\\\n\u001b[1;32m      8\u001b[0m     \u001b[38;5;241m.\u001b[39morderBy(F\u001b[38;5;241m.\u001b[39mdesc(\u001b[38;5;124m\"\u001b[39m\u001b[38;5;124mopen_rate\u001b[39m\u001b[38;5;124m\"\u001b[39m))\\\n\u001b[1;32m      9\u001b[0m     \u001b[38;5;241m.\u001b[39mshow(\u001b[38;5;241m15\u001b[39m, truncate\u001b[38;5;241m=\u001b[39m\u001b[38;5;28;01mFalse\u001b[39;00m)\n",
      "\u001b[0;31mNameError\u001b[0m: name 'df_exploded' is not defined"
     ]
    }
   ],
   "source": [
    "df_exploded.groupBy(\"category\")\\\n",
    "    .agg(\n",
    "        F.count(\"business_id\").alias(\"total\"),\n",
    "        F.sum(F.when(F.col(\"is_open\") == 1, 1).otherwise(0)).alias(\"open_count\")\n",
    "    )\\\n",
    "    .withColumn(\"open_rate\", (F.col(\"open_count\") / F.col(\"total\")))\\\n",
    "    .filter(F.col(\"total\") > 50)\\\n",
    "    .orderBy(F.desc(\"open_rate\"))\\\n",
    "    .show(15, truncate=False)\n"
   ]
  },
  {
   "cell_type": "code",
   "execution_count": null,
   "id": "6f2d2018-de36-41cd-b55d-01c221cf6d74",
   "metadata": {},
   "outputs": [],
   "source": []
  },
  {
   "cell_type": "markdown",
   "id": "3c8cc248-2347-4a98-81ff-9dafa2d347f6",
   "metadata": {},
   "source": [
    "### Academic User\n",
    "\n",
    "💡 Role:\n",
    "\n",
    "Contains details about users who write reviews or tips.\n",
    "\n"
   ]
  },
  {
   "cell_type": "code",
   "execution_count": 37,
   "id": "171aacf4-a761-486c-8bb0-064f51bb5975",
   "metadata": {},
   "outputs": [
    {
     "name": "stdout",
     "output_type": "stream",
     "text": [
      "+-------------+---------------+---------------+----------------+--------------+---------------+---------------+---------------+-----------------+----------------+------------------+-----------------+-----+--------------------+----+--------------------+-----+------+------------+------+--------------------+-------------------+\n",
      "|average_stars|compliment_cool|compliment_cute|compliment_funny|compliment_hot|compliment_list|compliment_more|compliment_note|compliment_photos|compliment_plain|compliment_profile|compliment_writer| cool|               elite|fans|             friends|funny|  name|review_count|useful|             user_id|      yelping_since|\n",
      "+-------------+---------------+---------------+----------------+--------------+---------------+---------------+---------------+-----------------+----------------+------------------+-----------------+-----+--------------------+----+--------------------+-----+------+------------+------+--------------------+-------------------+\n",
      "|         3.91|            467|             56|             467|           250|             18|             65|            232|              180|             844|                55|              239| 5994|                2007| 267|NSCy54eWehBJyZdG2...| 1259|Walker|         585|  7217|qVc8ODYU5SZjKXVBg...|2007-01-25 16:47:26|\n",
      "|         3.74|           3131|            157|            3131|          1145|            251|            264|           1847|             1946|            7054|               184|             1521|27281|2009,2010,2011,20...|3138|ueRPE0CX75ePGMqOF...|13066|Daniel|        4333| 43091|j14WgRoU_-2ZE1aw1...|2009-01-25 04:35:42|\n",
      "|         3.32|            119|             17|             119|            89|              3|             13|             66|               18|              96|                10|               35| 1003|2009,2010,2011,20...|  52|LuO3Bn4f3rlhyHIaN...| 1010| Steph|         665|  2086|2WnXYQFK0hXEoTxPt...|2008-07-25 10:41:00|\n",
      "|         4.27|             26|              6|              26|            24|              2|              4|             12|                9|              16|                 1|               10|  299|      2009,2010,2011|  28|enx1vVPnfdNUdPho6...|  330|  Gwen|         224|   512|SZDeASXq7o05mMNLs...|2005-11-29 04:38:33|\n",
      "|         3.54|              0|              0|               0|             1|              0|              1|              1|                0|               1|                 0|                0|    7|                    |   1|PBK4q9KEEBHhFvSXC...|   15| Karen|          79|    29|hA5lMy-EnncsH4JoR...|2007-01-05 19:40:59|\n",
      "+-------------+---------------+---------------+----------------+--------------+---------------+---------------+---------------+-----------------+----------------+------------------+-----------------+-----+--------------------+----+--------------------+-----+------+------------+------+--------------------+-------------------+\n",
      "only showing top 5 rows\n",
      "\n"
     ]
    }
   ],
   "source": [
    "\n",
    "df_user.show(5)"
   ]
  },
  {
   "cell_type": "markdown",
   "id": "277fc17f-ba3c-4a0b-987f-6a4f24892eaa",
   "metadata": {},
   "source": [
    "#### Academic User Schema"
   ]
  },
  {
   "cell_type": "code",
   "execution_count": 41,
   "id": "b02f54de-97e8-4a1c-ba3b-f65fba1efea7",
   "metadata": {},
   "outputs": [
    {
     "name": "stderr",
     "output_type": "stream",
     "text": [
      "[Stage 31:=====================================================>  (25 + 1) / 26]\r"
     ]
    },
    {
     "name": "stdout",
     "output_type": "stream",
     "text": [
      "Total users: 1987897\n",
      "root\n",
      " |-- average_stars: double (nullable = true)\n",
      " |-- compliment_cool: long (nullable = true)\n",
      " |-- compliment_cute: long (nullable = true)\n",
      " |-- compliment_funny: long (nullable = true)\n",
      " |-- compliment_hot: long (nullable = true)\n",
      " |-- compliment_list: long (nullable = true)\n",
      " |-- compliment_more: long (nullable = true)\n",
      " |-- compliment_note: long (nullable = true)\n",
      " |-- compliment_photos: long (nullable = true)\n",
      " |-- compliment_plain: long (nullable = true)\n",
      " |-- compliment_profile: long (nullable = true)\n",
      " |-- compliment_writer: long (nullable = true)\n",
      " |-- cool: long (nullable = true)\n",
      " |-- elite: string (nullable = true)\n",
      " |-- fans: long (nullable = true)\n",
      " |-- friends: string (nullable = true)\n",
      " |-- funny: long (nullable = true)\n",
      " |-- name: string (nullable = true)\n",
      " |-- review_count: long (nullable = true)\n",
      " |-- useful: long (nullable = true)\n",
      " |-- user_id: string (nullable = true)\n",
      " |-- yelping_since: string (nullable = true)\n",
      "\n"
     ]
    },
    {
     "name": "stderr",
     "output_type": "stream",
     "text": [
      "                                                                                \r"
     ]
    }
   ],
   "source": [
    "print(\"Total users:\", df_user.count())\n",
    "df_user.printSchema()"
   ]
  },
  {
   "cell_type": "markdown",
   "id": "93419033-588b-4446-9481-89ef0e0a3d54",
   "metadata": {},
   "source": [
    "#### Total Unique User"
   ]
  },
  {
   "cell_type": "code",
   "execution_count": 40,
   "id": "8e031c75-11fb-4724-929c-d6d6b9d213cd",
   "metadata": {},
   "outputs": [
    {
     "name": "stderr",
     "output_type": "stream",
     "text": [
      "[Stage 107:====================================================>  (25 + 1) / 26]\r"
     ]
    },
    {
     "name": "stdout",
     "output_type": "stream",
     "text": [
      "Total unique users: 1,987,897\n"
     ]
    },
    {
     "name": "stderr",
     "output_type": "stream",
     "text": [
      "                                                                                \r"
     ]
    }
   ],
   "source": [
    "total_users = df_user.select(\"user_id\").distinct().count()\n",
    "print(f\"Total unique users: {total_users:,}\")"
   ]
  },
  {
   "cell_type": "code",
   "execution_count": null,
   "id": "f1ee9c9c-854e-45e4-8b0c-dca6db6e587a",
   "metadata": {},
   "outputs": [],
   "source": [
    "Distribution of review_count per user (most active users).\n",
    "\n",
    "Distribution of average_stars across users (do some users always give high/low stars?).\n",
    "\n",
    "How many elite users and elite years distribution.\n",
    "\n",
    "Relationship between user influence metrics (fans, useful, funny, cool) and their review_count.\n",
    "\n",
    "Top users by useful votes or fans.\n",
    "\n",
    "Network size: distribution of number of friends per user."
   ]
  },
  {
   "cell_type": "code",
   "execution_count": null,
   "id": "072eb42f-25ee-432a-89fb-6e3d853cb5e8",
   "metadata": {},
   "outputs": [],
   "source": [
    "# Most active users\n",
    "df_user.select(\"user_id\",\"name\",\"review_count\",\"fans\") \\\n",
    "    .orderBy(F.desc(\"review_count\")).show(10)"
   ]
  },
  {
   "cell_type": "code",
   "execution_count": null,
   "id": "d6d0bafb-7498-4f95-ad11-8267e401b7ca",
   "metadata": {},
   "outputs": [],
   "source": []
  },
  {
   "cell_type": "code",
   "execution_count": null,
   "id": "14acfb99-d7f3-4173-9adc-3c4bdaab176a",
   "metadata": {},
   "outputs": [],
   "source": []
  },
  {
   "cell_type": "code",
   "execution_count": null,
   "id": "2d8a8f9b-40a8-4d63-964c-07a6b8ae9782",
   "metadata": {},
   "outputs": [],
   "source": []
  },
  {
   "cell_type": "code",
   "execution_count": null,
   "id": "01ade484-dd49-45dd-aa3e-654cacb014a5",
   "metadata": {},
   "outputs": [],
   "source": []
  },
  {
   "cell_type": "code",
   "execution_count": null,
   "id": "2e1d5a8b-a896-4250-ab5f-19a0622832c6",
   "metadata": {},
   "outputs": [],
   "source": []
  },
  {
   "cell_type": "code",
   "execution_count": null,
   "id": "47018c89-2c66-49e5-8553-2194fd066fb8",
   "metadata": {},
   "outputs": [],
   "source": []
  },
  {
   "cell_type": "code",
   "execution_count": null,
   "id": "2e6d3fc0-487c-4ee4-bbda-c270aaa3e0d9",
   "metadata": {},
   "outputs": [],
   "source": []
  },
  {
   "cell_type": "code",
   "execution_count": null,
   "id": "0d1dd4b4-5454-4ca0-9560-5b568dcfc458",
   "metadata": {},
   "outputs": [],
   "source": []
  },
  {
   "cell_type": "code",
   "execution_count": null,
   "id": "a67a4c6c-5c33-4788-8ae1-e64cab826b24",
   "metadata": {},
   "outputs": [],
   "source": []
  },
  {
   "cell_type": "code",
   "execution_count": null,
   "id": "8e73da9b-4799-44bc-ae47-2bc3ff52e853",
   "metadata": {},
   "outputs": [],
   "source": []
  },
  {
   "cell_type": "code",
   "execution_count": null,
   "id": "e0a68e53-4002-4b28-83f4-1abf1b1076c2",
   "metadata": {},
   "outputs": [],
   "source": []
  },
  {
   "cell_type": "code",
   "execution_count": null,
   "id": "9d5b171c-6505-4cf9-8516-59c8d7bb144d",
   "metadata": {},
   "outputs": [],
   "source": []
  },
  {
   "cell_type": "markdown",
   "id": "cc18e012-5500-4024-92d3-732e0f54c40d",
   "metadata": {},
   "source": [
    "### Academic Tip\n",
    "\n",
    "💡 Role:\n",
    "\n",
    "Similar to reviews but shorter, like quick “pro-tips” or mini comments."
   ]
  },
  {
   "cell_type": "code",
   "execution_count": null,
   "id": "ac32f54c-3e5c-49d0-97f4-89181d191901",
   "metadata": {},
   "outputs": [],
   "source": [
    "df_tip.limit(5).toPandas()"
   ]
  },
  {
   "cell_type": "markdown",
   "id": "3bff046a-583b-4bd2-b215-1961f18e0a0f",
   "metadata": {},
   "source": [
    "#### Academic Tip Schema"
   ]
  },
  {
   "cell_type": "code",
   "execution_count": null,
   "id": "5d01fecc-0867-4d34-bd4f-54d77fdf922c",
   "metadata": {},
   "outputs": [],
   "source": [
    "print(\"Total tips:\", df_tip.count())\n",
    "df_tip.printSchema()"
   ]
  },
  {
   "cell_type": "code",
   "execution_count": null,
   "id": "0f713d82-184b-44d2-ba3d-be92d776f29c",
   "metadata": {},
   "outputs": [],
   "source": [
    "Distribution of compliment_count on tips (how many tips get compliments).\n",
    "\n",
    "What are the common words in tips (quick top insights)?\n",
    "\n",
    "Average tip length and relation with compliment_count.\n",
    "\n",
    "Top businesses by number of tips.\n",
    "\n",
    "Temporal trend of tips (tips per year).\n",
    "\n",
    "Are tips more positive or negative? (quick polarity using TextBlob — optional if installed"
   ]
  },
  {
   "cell_type": "code",
   "execution_count": null,
   "id": "4d949199-fdc3-4d5f-bdeb-e0fb76afc59c",
   "metadata": {},
   "outputs": [],
   "source": []
  },
  {
   "cell_type": "code",
   "execution_count": null,
   "id": "04a65b21-d764-410a-ad24-859a619559de",
   "metadata": {},
   "outputs": [],
   "source": [
    "# Top tip users\n",
    "df_tip.groupBy(\"user_id\").agg(F.count(\"*\").alias(\"tip_count\"),\n",
    "                              F.sum(\"compliment_count\").alias(\"total_compliments\")) \\\n",
    "      .orderBy(F.desc(\"tip_count\")).show(10)"
   ]
  },
  {
   "cell_type": "code",
   "execution_count": null,
   "id": "41aba35f-b08a-4c42-baec-1f724f7d38a6",
   "metadata": {},
   "outputs": [],
   "source": []
  },
  {
   "cell_type": "code",
   "execution_count": null,
   "id": "4f0730e3-9786-4090-8ad6-b4aa07dd508d",
   "metadata": {},
   "outputs": [],
   "source": []
  },
  {
   "cell_type": "code",
   "execution_count": null,
   "id": "0f81a870-3149-410d-bd7e-af386027b149",
   "metadata": {},
   "outputs": [],
   "source": []
  },
  {
   "cell_type": "code",
   "execution_count": null,
   "id": "5beb7c39-dcfc-4fbd-90f8-7bf0181dff60",
   "metadata": {},
   "outputs": [],
   "source": []
  },
  {
   "cell_type": "code",
   "execution_count": null,
   "id": "571e0446-2c4c-4d8b-b7e1-83b8214cecc4",
   "metadata": {},
   "outputs": [],
   "source": []
  },
  {
   "cell_type": "code",
   "execution_count": null,
   "id": "ccb303b4-9344-4c0d-b067-fedf18d7d311",
   "metadata": {},
   "outputs": [],
   "source": []
  },
  {
   "cell_type": "code",
   "execution_count": null,
   "id": "2c450073-1d95-435c-b1a4-08fa8cf39488",
   "metadata": {},
   "outputs": [],
   "source": []
  },
  {
   "cell_type": "markdown",
   "id": "09ad8a68-2f88-4d51-8aaa-3b491cf1d2fb",
   "metadata": {},
   "source": [
    "### Academic Review\n",
    "\n",
    "💡 Role:\n",
    "\n",
    "Contains all user-written reviews for each business.\n",
    "\n",
    "{\n",
    "  \"review_id\": \"xQY8N_XvtGbearJ5X0KlyQ\",\n",
    "  \"user_id\": \"OwjRMXRC0KyPrIlcjYv4-A\",\n",
    "  \"business_id\": \"f9NumwFMBDn751xgFiRbNA\",\n",
    "  \"stars\": 4,\n",
    "  \"date\": \"2016-03-09\",\n",
    "  \"text\": \"Great food, friendly staff...\",\n",
    "  \"useful\": 2,\n",
    "  \"funny\": 0,\n",
    "  \"cool\": 1\n",
    "}\n",
    "\n"
   ]
  },
  {
   "cell_type": "code",
   "execution_count": 42,
   "id": "924221f0-7891-462b-8691-bcaef00abc6b",
   "metadata": {},
   "outputs": [
    {
     "name": "stdout",
     "output_type": "stream",
     "text": [
      "+--------------------+----+-------------------+-----+--------------------+-----+--------------------+------+--------------------+\n",
      "|         business_id|cool|               date|funny|           review_id|stars|                text|useful|             user_id|\n",
      "+--------------------+----+-------------------+-----+--------------------+-----+--------------------+------+--------------------+\n",
      "|XQfwVwDr-v0ZS3_Cb...|   0|2018-07-07 22:09:11|    0|KU_O5udG6zpxOg-Vc...|  3.0|If you decide to ...|     0|mh_-eMZ6K5RLWhZyI...|\n",
      "|7ATYjTIgM3jUlt4UM...|   1|2012-01-03 15:28:18|    0|BiTunyQ73aT9WBnpR...|  5.0|I've taken a lot ...|     1|OyoGAe7OKpv6SyGZT...|\n",
      "|YjUWPpI6HXG530lwP...|   0|2014-02-05 20:30:30|    0|saUsX_uimxRlCVr67...|  3.0|Family diner. Had...|     0|8g_iMtfSiwikVnbP2...|\n",
      "|kxX2SOes4o-D3ZQBk...|   1|2015-01-04 00:01:03|    0|AqPFMleE6RsU23_au...|  5.0|Wow!  Yummy, diff...|     1|_7bHUi9Uuf5__HHc_...|\n",
      "|e4Vwtrqf-wpJfwesg...|   1|2017-01-14 20:54:15|    0|Sx8TMOWLNuJBWer-0...|  4.0|Cute interior and...|     1|bcjbaE6dDog4jkNY9...|\n",
      "+--------------------+----+-------------------+-----+--------------------+-----+--------------------+------+--------------------+\n",
      "only showing top 5 rows\n",
      "\n"
     ]
    }
   ],
   "source": [
    "\n",
    "main_objects = df_review.columns\n",
    "\n",
    "df_review.select(main_objects).show(5)\n"
   ]
  },
  {
   "cell_type": "markdown",
   "id": "c60e6c8c-b958-4e1e-8f78-0e5b886d3ac0",
   "metadata": {},
   "source": [
    "#### Academic Review Schema"
   ]
  },
  {
   "cell_type": "code",
   "execution_count": 47,
   "id": "a62d0b08-d665-49ae-bd5c-c64ec73c02fc",
   "metadata": {},
   "outputs": [
    {
     "name": "stderr",
     "output_type": "stream",
     "text": [
      "[Stage 36:=====================================================>  (38 + 2) / 40]\r"
     ]
    },
    {
     "name": "stdout",
     "output_type": "stream",
     "text": [
      "Total reviews: 6990280\n",
      "root\n",
      " |-- business_id: string (nullable = true)\n",
      " |-- cool: long (nullable = true)\n",
      " |-- date: string (nullable = true)\n",
      " |-- funny: long (nullable = true)\n",
      " |-- review_id: string (nullable = true)\n",
      " |-- stars: double (nullable = true)\n",
      " |-- text: string (nullable = true)\n",
      " |-- useful: long (nullable = true)\n",
      " |-- user_id: string (nullable = true)\n",
      "\n"
     ]
    },
    {
     "name": "stderr",
     "output_type": "stream",
     "text": [
      "                                                                                \r"
     ]
    }
   ],
   "source": [
    "print(\"Total reviews:\", df_review.count())\n",
    "df_review.printSchema()"
   ]
  },
  {
   "cell_type": "markdown",
   "id": "926898e1-3996-422c-822d-efddd009f217",
   "metadata": {},
   "source": [
    "- *Nearly 7M reviews by ~2M users over 150k businesses*"
   ]
  },
  {
   "cell_type": "code",
   "execution_count": null,
   "id": "21b997a4-efa2-41dd-9ed0-96a320585cce",
   "metadata": {},
   "outputs": [],
   "source": []
  },
  {
   "cell_type": "code",
   "execution_count": null,
   "id": "60b26ecc-af5f-45db-ac80-3c9b207a6243",
   "metadata": {},
   "outputs": [],
   "source": []
  },
  {
   "cell_type": "code",
   "execution_count": null,
   "id": "1ac04d01-7356-404c-90fd-d9ea98f53d14",
   "metadata": {},
   "outputs": [],
   "source": [
    "Distribution of stars in reviews (how many 1–5 stars)?\n",
    "\n",
    "Review length distribution (characters / words) and extreme lengths.\n",
    "\n",
    "Temporal trends: reviews per year/month; seasonal patterns.\n",
    "\n",
    "Top businesses by number of reviews; which businesses attract most reviews?\n",
    "\n",
    "Relationship between review text length and rating (do longer reviews correlate with lower/higher stars?).\n",
    "\n",
    "Most frequent words / bigrams in positive vs negative reviews.\n",
    "\n",
    "    #how many review was madde,\n",
    "#The highest amount of reviews one person can make\n",
    "#the top business has highest user reviews?\n",
    "#The time reviews was mades"
   ]
  },
  {
   "cell_type": "code",
   "execution_count": null,
   "id": "8cec0bcf-2493-4179-8d60-d521d940d9ad",
   "metadata": {},
   "outputs": [],
   "source": [
    "# Reviews per year\n",
    "df_review = df_review.withColumn(\"year\", F.year(\"date\"))\n",
    "df_review.groupBy(\"year\").count().orderBy(\"year\").show()"
   ]
  },
  {
   "cell_type": "code",
   "execution_count": null,
   "id": "d16d6edb-81be-490a-8c4e-d08f58d9bc5c",
   "metadata": {},
   "outputs": [],
   "source": [
    "# Stars distribution\n",
    "df_review.groupBy(\"stars\").count().orderBy(\"stars\").show()"
   ]
  },
  {
   "cell_type": "code",
   "execution_count": null,
   "id": "cf730dd6-baef-4da6-973f-47ccd9889a8b",
   "metadata": {},
   "outputs": [],
   "source": []
  },
  {
   "cell_type": "code",
   "execution_count": null,
   "id": "df8bf948-0f64-4602-b77e-9dad08dfc25a",
   "metadata": {},
   "outputs": [],
   "source": []
  },
  {
   "cell_type": "code",
   "execution_count": null,
   "id": "dc49e1ee-fc46-4ba0-9774-b4219c756cda",
   "metadata": {},
   "outputs": [],
   "source": []
  },
  {
   "cell_type": "code",
   "execution_count": null,
   "id": "eb6ffa54-3792-4330-b161-de866dcc4706",
   "metadata": {},
   "outputs": [],
   "source": []
  },
  {
   "cell_type": "code",
   "execution_count": null,
   "id": "20d5eeb3-1d0d-4b07-af50-f3060e39fa9b",
   "metadata": {},
   "outputs": [],
   "source": []
  },
  {
   "cell_type": "code",
   "execution_count": null,
   "id": "41a6bffa-4af1-4d3d-a82b-f3cf57fca764",
   "metadata": {},
   "outputs": [],
   "source": []
  },
  {
   "cell_type": "code",
   "execution_count": null,
   "id": "9fbadec3-664d-4c50-bc64-18a5507d060c",
   "metadata": {},
   "outputs": [],
   "source": []
  },
  {
   "cell_type": "code",
   "execution_count": null,
   "id": "ff2aedc0-51a1-4531-b1ec-615a6ef6ef0e",
   "metadata": {},
   "outputs": [],
   "source": []
  },
  {
   "cell_type": "markdown",
   "id": "0081eded-9d75-44ef-b3dc-300847dc61dd",
   "metadata": {},
   "source": [
    "### Academic Checkin\n",
    "\n",
    "💡 Role:\n",
    "\n",
    "Stores check-in records: when users visited a business."
   ]
  },
  {
   "cell_type": "code",
   "execution_count": null,
   "id": "6e6b28b4-b7bb-4873-a686-f1978826669a",
   "metadata": {},
   "outputs": [],
   "source": [
    "df_checkin.limit(5).toPandas()"
   ]
  },
  {
   "cell_type": "markdown",
   "id": "9cf38f91-d84d-4c02-9097-112bba4c25fd",
   "metadata": {},
   "source": [
    "#### Academic Chekin"
   ]
  },
  {
   "cell_type": "code",
   "execution_count": null,
   "id": "5fb82616-ce8f-4a18-abbc-b3d82f40bac3",
   "metadata": {},
   "outputs": [],
   "source": [
    "print(\"Total checkin entries:\", df_checkin.count())\n",
    "df_checkin.printSchema()"
   ]
  },
  {
   "cell_type": "code",
   "execution_count": null,
   "id": "91acf7a5-102f-476b-9c76-f3a9778c72b5",
   "metadata": {},
   "outputs": [],
   "source": [
    "What are the busiest hours of day aggregated across businesses?\n",
    "\n",
    "Which weekday has the highest check-ins?\n",
    "\n",
    "Distribution of total check-ins per business (how many businesses are popular).\n",
    "\n",
    "Time-series: check-in trends by month or year (if data contains dates).\n",
    "\n",
    "Correlate check-in counts with business average stars / review_count (need join to business).\n",
    "\n",
    "Peak hours by category (join checkin → business categories)."
   ]
  },
  {
   "cell_type": "code",
   "execution_count": null,
   "id": "433ebd69-ccc6-4293-94d1-188ec44a39d3",
   "metadata": {},
   "outputs": [],
   "source": [
    "# Total check-ins per business (if checkin_info is map)\n",
    "df_checkin = df_checkin.withColumn(\"checkin_total\",\n",
    "                                   F.expr(\"aggregate(map_values(checkin_info), 0L, (acc, x) -> acc + x)\"))\n",
    "df_checkin.select(F.mean(\"checkin_total\"), F.max(\"checkin_total\")).show()"
   ]
  },
  {
   "cell_type": "code",
   "execution_count": null,
   "id": "7a892f62-4511-42d5-a99f-e99bf57271d1",
   "metadata": {},
   "outputs": [],
   "source": []
  },
  {
   "cell_type": "code",
   "execution_count": null,
   "id": "e3392f10-b199-4e1c-b434-37534b500d31",
   "metadata": {},
   "outputs": [],
   "source": []
  },
  {
   "cell_type": "code",
   "execution_count": null,
   "id": "f5f37d6f-d664-46af-bc23-72fb1bab5371",
   "metadata": {},
   "outputs": [],
   "source": []
  },
  {
   "cell_type": "code",
   "execution_count": null,
   "id": "d2f75186-11d9-4eed-9569-9c3803155fef",
   "metadata": {},
   "outputs": [],
   "source": []
  },
  {
   "cell_type": "code",
   "execution_count": null,
   "id": "37f84736-3813-4511-b727-32e037017353",
   "metadata": {},
   "outputs": [],
   "source": []
  },
  {
   "cell_type": "code",
   "execution_count": null,
   "id": "3ec67bde-6aed-4bb3-bd46-61e55b861516",
   "metadata": {},
   "outputs": [],
   "source": []
  },
  {
   "cell_type": "code",
   "execution_count": null,
   "id": "05441d73-effc-48f7-9fb1-96c48c1506ba",
   "metadata": {},
   "outputs": [],
   "source": []
  },
  {
   "cell_type": "code",
   "execution_count": null,
   "id": "6b61d48c-0a5a-4c09-b3ec-713e331034bf",
   "metadata": {},
   "outputs": [],
   "source": []
  },
  {
   "cell_type": "code",
   "execution_count": null,
   "id": "585172c2-fd79-4452-b734-49608e766feb",
   "metadata": {},
   "outputs": [],
   "source": []
  },
  {
   "cell_type": "code",
   "execution_count": null,
   "id": "e2c2ce48-92ff-409c-81e4-5ebda6df0838",
   "metadata": {},
   "outputs": [],
   "source": []
  },
  {
   "cell_type": "markdown",
   "id": "aa35089e-1f79-4a4f-8465-60cf8a737d3c",
   "metadata": {},
   "source": [
    "### Academic Restaurant Reviews (Merged)"
   ]
  },
  {
   "cell_type": "code",
   "execution_count": 6,
   "id": "0330e591-e257-4d0a-8d72-5acc68814c98",
   "metadata": {},
   "outputs": [
    {
     "data": {
      "text/plain": [
       "DataFrame[business_id: string, address: string, attributes: struct<AcceptsInsurance:string,AgesAllowed:string,Alcohol:string,Ambience:string,BYOB:string,BYOBCorkage:string,BestNights:string,BikeParking:string,BusinessAcceptsBitcoin:string,BusinessAcceptsCreditCards:string,BusinessParking:string,ByAppointmentOnly:string,Caters:string,CoatCheck:string,Corkage:string,DietaryRestrictions:string,DogsAllowed:string,DriveThru:string,GoodForDancing:string,GoodForKids:string,GoodForMeal:string,HairSpecializesIn:string,HappyHour:string,HasTV:string,Music:string,NoiseLevel:string,Open24Hours:string,OutdoorSeating:string,RestaurantsAttire:string,RestaurantsCounterService:string,RestaurantsDelivery:string,RestaurantsGoodForGroups:string,RestaurantsPriceRange2:string,RestaurantsReservations:string,RestaurantsTableService:string,RestaurantsTakeOut:string,Smoking:string,WheelchairAccessible:string,WiFi:string>, categories: string, city: string, hours: struct<Friday:string,Monday:string,Saturday:string,Sunday:string,Thursday:string,Tuesday:string,Wednesday:string>, is_open: bigint, latitude: double, longitude: double, name: string, postal_code: string, review_count: bigint, stars: double, state: string, cool: bigint, date: string, funny: bigint, review_id: string, stars: double, text: string, useful: bigint, user_id: string]"
      ]
     },
     "execution_count": 6,
     "metadata": {},
     "output_type": "execute_result"
    }
   ],
   "source": [
    "\n",
    "df_restaurant_review = df_business.join(df_review, on=\"business_id\", how=\"inner\")\n",
    "\n",
    "df_restaurant_review"
   ]
  },
  {
   "cell_type": "code",
   "execution_count": 8,
   "id": "c642ef16-c54a-45fe-935f-8615497dead6",
   "metadata": {},
   "outputs": [
    {
     "name": "stderr",
     "output_type": "stream",
     "text": [
      "[Stage 11:>                 (0 + 1) / 1][Stage 14:>                 (0 + 1) / 1]\r"
     ]
    },
    {
     "name": "stdout",
     "output_type": "stream",
     "text": [
      "+--------------------+----------------+--------------------+--------------------+---------------+--------------------+-------+----------+-----------+-----------------+-----------+------------+-----+-----+----+-------------------+-----+--------------------+-----+--------------------+------+--------------------+\n",
      "|         business_id|         address|          attributes|          categories|           city|               hours|is_open|  latitude|  longitude|             name|postal_code|review_count|stars|state|cool|               date|funny|           review_id|stars|                text|useful|             user_id|\n",
      "+--------------------+----------------+--------------------+--------------------+---------------+--------------------+-------+----------+-----------+-----------------+-----------+------------+-----+-----+----+-------------------+-----+--------------------+-----+--------------------+------+--------------------+\n",
      "|---kPU91CF4Lq2-Wl...|4903 State Rd 54|{NULL, NULL, u'no...|Seafood, Restaura...|New Port Richey|{11:0-22:0, 0:0-0...|      1|28.2172884|-82.7333444|Frankie's Raw Bar|      34652|          24|  4.5|   FL|   0|2021-11-25 02:49:38|    0|2HVxhnbaUfSfmC_RH...|  5.0|Hidden gem in NPR...|     0|lEPRGtvLLfJ2BQcU_...|\n",
      "|---kPU91CF4Lq2-Wl...|4903 State Rd 54|{NULL, NULL, u'no...|Seafood, Restaura...|New Port Richey|{11:0-22:0, 0:0-0...|      1|28.2172884|-82.7333444|Frankie's Raw Bar|      34652|          24|  4.5|   FL|   0|2020-08-09 19:19:16|    0|hoLKem4XpXGt_X4li...|  4.0|Ate here for the ...|     0|415SXXbQrl2-VudHa...|\n",
      "+--------------------+----------------+--------------------+--------------------+---------------+--------------------+-------+----------+-----------+-----------------+-----------+------------+-----+-----+----+-------------------+-----+--------------------+-----+--------------------+------+--------------------+\n",
      "only showing top 2 rows\n",
      "\n"
     ]
    },
    {
     "name": "stderr",
     "output_type": "stream",
     "text": [
      "                                                                                \r"
     ]
    }
   ],
   "source": [
    "df_restaurant_review.show(2)"
   ]
  },
  {
   "cell_type": "markdown",
   "id": "4134db41-aac3-408d-a422-33239d703e7f",
   "metadata": {},
   "source": [
    "\n",
    "Top 10 cities with most restaurants\n",
    "\n",
    "Distribution of restaurants in each state\n",
    "\n",
    "Top 10 cities with most reviews\n",
    "\n",
    "Top 9 restaurants with most reviews\n",
    "\n",
    "\n",
    "Distribution of positive and negative reviews in each category\n"
   ]
  },
  {
   "cell_type": "markdown",
   "id": "e769add5-e72e-4562-99c1-4301d816f1ec",
   "metadata": {},
   "source": [
    "### Reviews Analysis"
   ]
  },
  {
   "cell_type": "code",
   "execution_count": null,
   "id": "31144c51-bb6d-40db-95b0-b96a08319eb5",
   "metadata": {},
   "outputs": [],
   "source": []
  },
  {
   "cell_type": "code",
   "execution_count": null,
   "id": "aabdb934-359e-4212-bdfa-c2b82a21bf80",
   "metadata": {},
   "outputs": [],
   "source": []
  },
  {
   "cell_type": "code",
   "execution_count": null,
   "id": "f6c5e1bd-0095-4506-b804-d6edc9355dd2",
   "metadata": {},
   "outputs": [],
   "source": []
  },
  {
   "cell_type": "code",
   "execution_count": null,
   "id": "ba0961c9-c09d-4255-9b75-2aa3c57c4c8c",
   "metadata": {},
   "outputs": [],
   "source": []
  },
  {
   "cell_type": "code",
   "execution_count": null,
   "id": "6b702c58-ed61-483f-a09c-c0a40d15425d",
   "metadata": {},
   "outputs": [],
   "source": []
  },
  {
   "cell_type": "code",
   "execution_count": null,
   "id": "359694af-0419-47ab-b810-462a33545e75",
   "metadata": {},
   "outputs": [],
   "source": []
  },
  {
   "cell_type": "code",
   "execution_count": null,
   "id": "f3d434dd-3d06-4181-8006-8502a486b9fe",
   "metadata": {},
   "outputs": [],
   "source": []
  },
  {
   "cell_type": "code",
   "execution_count": null,
   "id": "a4a64f12-b029-4ae9-adf7-6603c8a3fc52",
   "metadata": {},
   "outputs": [],
   "source": []
  },
  {
   "cell_type": "code",
   "execution_count": null,
   "id": "8da4c86a-6749-49ee-9dfd-0a79fa69fad9",
   "metadata": {},
   "outputs": [],
   "source": []
  },
  {
   "cell_type": "code",
   "execution_count": null,
   "id": "2321cf6b-835a-4aef-95b3-33d2efc7071e",
   "metadata": {},
   "outputs": [],
   "source": []
  }
 ],
 "metadata": {
  "kernelspec": {
   "display_name": "Python 3 (ipykernel)",
   "language": "python",
   "name": "python3"
  },
  "language_info": {
   "codemirror_mode": {
    "name": "ipython",
    "version": 3
   },
   "file_extension": ".py",
   "mimetype": "text/x-python",
   "name": "python",
   "nbconvert_exporter": "python",
   "pygments_lexer": "ipython3",
   "version": "3.8.10"
  }
 },
 "nbformat": 4,
 "nbformat_minor": 5
}
